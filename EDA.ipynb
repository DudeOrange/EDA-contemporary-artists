{
 "cells": [
  {
   "cell_type": "code",
   "execution_count": 1,
   "metadata": {},
   "outputs": [],
   "source": [
    "import csv\n",
    "import pandas as pd\n",
    "import numpy as np\n",
    "import matplotlib.pyplot as plt\n",
    "\n",
    "import graph_func as gf"
   ]
  },
  {
   "cell_type": "code",
   "execution_count": 2,
   "metadata": {},
   "outputs": [],
   "source": [
    "filename = 'C:/Users/Andrew/Desktop/ML/parsing/gallery.csv'\n",
    "\n",
    "columns = ['author', 'name', 'material', 'technic', 'genre', 'style', 'v_size',\n",
    "       'h_size', 'year', 'price']"
   ]
  },
  {
   "cell_type": "code",
   "execution_count": 3,
   "metadata": {},
   "outputs": [],
   "source": [
    "df = pd.read_csv(filename, sep=',', encoding='utf8')"
   ]
  },
  {
   "cell_type": "code",
   "execution_count": 4,
   "metadata": {},
   "outputs": [
    {
     "data": {
      "text/plain": [
       "(11378, 10)"
      ]
     },
     "execution_count": 4,
     "metadata": {},
     "output_type": "execute_result"
    }
   ],
   "source": [
    "df.shape"
   ]
  },
  {
   "cell_type": "code",
   "execution_count": 5,
   "metadata": {},
   "outputs": [
    {
     "data": {
      "text/html": [
       "<div>\n",
       "<style scoped>\n",
       "    .dataframe tbody tr th:only-of-type {\n",
       "        vertical-align: middle;\n",
       "    }\n",
       "\n",
       "    .dataframe tbody tr th {\n",
       "        vertical-align: top;\n",
       "    }\n",
       "\n",
       "    .dataframe thead th {\n",
       "        text-align: right;\n",
       "    }\n",
       "</style>\n",
       "<table border=\"1\" class=\"dataframe\">\n",
       "  <thead>\n",
       "    <tr style=\"text-align: right;\">\n",
       "      <th></th>\n",
       "      <th>author</th>\n",
       "      <th>name</th>\n",
       "      <th>material</th>\n",
       "      <th>technic</th>\n",
       "      <th>genre</th>\n",
       "      <th>style</th>\n",
       "      <th>v_size</th>\n",
       "      <th>h_size</th>\n",
       "      <th>year</th>\n",
       "      <th>price</th>\n",
       "    </tr>\n",
       "  </thead>\n",
       "  <tbody>\n",
       "    <tr>\n",
       "      <th>0</th>\n",
       "      <td>Ovcharenko Eduard</td>\n",
       "      <td>Spring</td>\n",
       "      <td>Холст</td>\n",
       "      <td>Масло</td>\n",
       "      <td>Landscape</td>\n",
       "      <td>Impressionism</td>\n",
       "      <td>80</td>\n",
       "      <td>60</td>\n",
       "      <td>2015</td>\n",
       "      <td>9880.0</td>\n",
       "    </tr>\n",
       "    <tr>\n",
       "      <th>1</th>\n",
       "      <td>Ovcharenko Eduard</td>\n",
       "      <td>March in the Park</td>\n",
       "      <td>Холст</td>\n",
       "      <td>Масло</td>\n",
       "      <td>Landscape</td>\n",
       "      <td>Expressionism</td>\n",
       "      <td>60</td>\n",
       "      <td>40</td>\n",
       "      <td>2003</td>\n",
       "      <td>9880.0</td>\n",
       "    </tr>\n",
       "    <tr>\n",
       "      <th>2</th>\n",
       "      <td>Ovcharenko Eduard</td>\n",
       "      <td>Melody. Listening To Bach</td>\n",
       "      <td>Картон</td>\n",
       "      <td>Масло</td>\n",
       "      <td>Portrait</td>\n",
       "      <td>Impressionism</td>\n",
       "      <td>70</td>\n",
       "      <td>110</td>\n",
       "      <td>1958</td>\n",
       "      <td>9880.0</td>\n",
       "    </tr>\n",
       "    <tr>\n",
       "      <th>3</th>\n",
       "      <td>Skopov Yuri</td>\n",
       "      <td>Suprematist signal</td>\n",
       "      <td>Холст</td>\n",
       "      <td>Масло</td>\n",
       "      <td>Abstraction</td>\n",
       "      <td>Abstract art</td>\n",
       "      <td>101</td>\n",
       "      <td>60.5</td>\n",
       "      <td>1994</td>\n",
       "      <td>2540.0</td>\n",
       "    </tr>\n",
       "    <tr>\n",
       "      <th>4</th>\n",
       "      <td>Skubko Sergey</td>\n",
       "      <td>Autumn in the mountains</td>\n",
       "      <td>Холст</td>\n",
       "      <td>Масло</td>\n",
       "      <td>Landscape</td>\n",
       "      <td>Impressionism</td>\n",
       "      <td>80</td>\n",
       "      <td>60</td>\n",
       "      <td>1961</td>\n",
       "      <td>2540.0</td>\n",
       "    </tr>\n",
       "    <tr>\n",
       "      <th>5</th>\n",
       "      <td>Skubko Sergey</td>\n",
       "      <td>Sunny day in Suzdal</td>\n",
       "      <td>Холст</td>\n",
       "      <td>Масло</td>\n",
       "      <td>Landscape</td>\n",
       "      <td>Impressionism</td>\n",
       "      <td>60</td>\n",
       "      <td>70</td>\n",
       "      <td>1981</td>\n",
       "      <td>2540.0</td>\n",
       "    </tr>\n",
       "    <tr>\n",
       "      <th>6</th>\n",
       "      <td>Krasheninnikov Alexander</td>\n",
       "      <td>Impenetrable forest</td>\n",
       "      <td>Холст</td>\n",
       "      <td>Масло</td>\n",
       "      <td>Landscape</td>\n",
       "      <td>Realism</td>\n",
       "      <td>75</td>\n",
       "      <td>60</td>\n",
       "      <td>1994</td>\n",
       "      <td>1240.0</td>\n",
       "    </tr>\n",
       "    <tr>\n",
       "      <th>7</th>\n",
       "      <td>Fedosov Nikita</td>\n",
       "      <td>Trinity-Sergius Lavra</td>\n",
       "      <td>Холст</td>\n",
       "      <td>Масло</td>\n",
       "      <td>Landscape</td>\n",
       "      <td>Impressionism</td>\n",
       "      <td>49</td>\n",
       "      <td>35</td>\n",
       "      <td>Unknown</td>\n",
       "      <td>2540.0</td>\n",
       "    </tr>\n",
       "    <tr>\n",
       "      <th>8</th>\n",
       "      <td>Tishin Vyacheslav,Horace’s Tree,\"Canvas, the\",...</td>\n",
       "      <td>NaN</td>\n",
       "      <td>NaN</td>\n",
       "      <td>NaN</td>\n",
       "      <td>NaN</td>\n",
       "      <td>NaN</td>\n",
       "      <td>NaN</td>\n",
       "      <td>NaN</td>\n",
       "      <td>NaN</td>\n",
       "      <td>NaN</td>\n",
       "    </tr>\n",
       "    <tr>\n",
       "      <th>9</th>\n",
       "      <td>Tishin Vyacheslav</td>\n",
       "      <td>Rainbow</td>\n",
       "      <td>Canvas</td>\n",
       "      <td>Print</td>\n",
       "      <td>Abstraction</td>\n",
       "      <td>Abstract art</td>\n",
       "      <td>40</td>\n",
       "      <td>60</td>\n",
       "      <td>2008</td>\n",
       "      <td>250.0</td>\n",
       "    </tr>\n",
       "    <tr>\n",
       "      <th>10</th>\n",
       "      <td>Tishin Vyacheslav,Enlightened bears (diptych A...</td>\n",
       "      <td>NaN</td>\n",
       "      <td>NaN</td>\n",
       "      <td>NaN</td>\n",
       "      <td>NaN</td>\n",
       "      <td>NaN</td>\n",
       "      <td>NaN</td>\n",
       "      <td>NaN</td>\n",
       "      <td>NaN</td>\n",
       "      <td>NaN</td>\n",
       "    </tr>\n",
       "    <tr>\n",
       "      <th>11</th>\n",
       "      <td>Tishin Vyacheslav</td>\n",
       "      <td>OOP</td>\n",
       "      <td>Plastic</td>\n",
       "      <td>Print</td>\n",
       "      <td>Genre painting</td>\n",
       "      <td>Conceptual art</td>\n",
       "      <td>100</td>\n",
       "      <td>80</td>\n",
       "      <td>2011</td>\n",
       "      <td>540.0</td>\n",
       "    </tr>\n",
       "    <tr>\n",
       "      <th>12</th>\n",
       "      <td>Tishin Vyacheslav</td>\n",
       "      <td>UFO89</td>\n",
       "      <td>Canvas</td>\n",
       "      <td>Print</td>\n",
       "      <td>Genre painting</td>\n",
       "      <td>Abstract art</td>\n",
       "      <td>50</td>\n",
       "      <td>70</td>\n",
       "      <td>2014</td>\n",
       "      <td>360.0</td>\n",
       "    </tr>\n",
       "    <tr>\n",
       "      <th>13</th>\n",
       "      <td>Tishin Vyacheslav</td>\n",
       "      <td>Our Avangard brings love and obedience</td>\n",
       "      <td>Polycarbonate</td>\n",
       "      <td>Acrylic</td>\n",
       "      <td>Genre painting</td>\n",
       "      <td>Conceptual art</td>\n",
       "      <td>107</td>\n",
       "      <td>115</td>\n",
       "      <td>2020</td>\n",
       "      <td>4700.0</td>\n",
       "    </tr>\n",
       "    <tr>\n",
       "      <th>14</th>\n",
       "      <td>Tishin Vyacheslav,Inversion of Watermelon Line...</td>\n",
       "      <td>NaN</td>\n",
       "      <td>NaN</td>\n",
       "      <td>NaN</td>\n",
       "      <td>NaN</td>\n",
       "      <td>NaN</td>\n",
       "      <td>NaN</td>\n",
       "      <td>NaN</td>\n",
       "      <td>NaN</td>\n",
       "      <td>NaN</td>\n",
       "    </tr>\n",
       "    <tr>\n",
       "      <th>15</th>\n",
       "      <td>Tishin Vyacheslav,There is a Choice,MDF,\"Acryl...</td>\n",
       "      <td>NaN</td>\n",
       "      <td>NaN</td>\n",
       "      <td>NaN</td>\n",
       "      <td>NaN</td>\n",
       "      <td>NaN</td>\n",
       "      <td>NaN</td>\n",
       "      <td>NaN</td>\n",
       "      <td>NaN</td>\n",
       "      <td>NaN</td>\n",
       "    </tr>\n",
       "    <tr>\n",
       "      <th>16</th>\n",
       "      <td>Tishin Vyacheslav,Welcome (diptych And You Can...</td>\n",
       "      <td>NaN</td>\n",
       "      <td>NaN</td>\n",
       "      <td>NaN</td>\n",
       "      <td>NaN</td>\n",
       "      <td>NaN</td>\n",
       "      <td>NaN</td>\n",
       "      <td>NaN</td>\n",
       "      <td>NaN</td>\n",
       "      <td>NaN</td>\n",
       "    </tr>\n",
       "    <tr>\n",
       "      <th>17</th>\n",
       "      <td>Tishin Vyacheslav</td>\n",
       "      <td>Sacrifices</td>\n",
       "      <td>Fiberboard</td>\n",
       "      <td>Collage</td>\n",
       "      <td>Abstraction</td>\n",
       "      <td>Conceptual art</td>\n",
       "      <td>58</td>\n",
       "      <td>33</td>\n",
       "      <td>2011</td>\n",
       "      <td>6870.0</td>\n",
       "    </tr>\n",
       "    <tr>\n",
       "      <th>18</th>\n",
       "      <td>Kovba Nadya</td>\n",
       "      <td>Cuba</td>\n",
       "      <td>Холст</td>\n",
       "      <td>Масло</td>\n",
       "      <td>Abstraction</td>\n",
       "      <td>Abstract art</td>\n",
       "      <td>100</td>\n",
       "      <td>120</td>\n",
       "      <td>2019</td>\n",
       "      <td>1930.0</td>\n",
       "    </tr>\n",
       "    <tr>\n",
       "      <th>19</th>\n",
       "      <td>Kovba Nadya,The harmony of the earth,Планшет,\"...</td>\n",
       "      <td>NaN</td>\n",
       "      <td>NaN</td>\n",
       "      <td>NaN</td>\n",
       "      <td>NaN</td>\n",
       "      <td>NaN</td>\n",
       "      <td>NaN</td>\n",
       "      <td>NaN</td>\n",
       "      <td>NaN</td>\n",
       "      <td>NaN</td>\n",
       "    </tr>\n",
       "  </tbody>\n",
       "</table>\n",
       "</div>"
      ],
      "text/plain": [
       "                                               author  \\\n",
       "0                                   Ovcharenko Eduard   \n",
       "1                                   Ovcharenko Eduard   \n",
       "2                                   Ovcharenko Eduard   \n",
       "3                                         Skopov Yuri   \n",
       "4                                       Skubko Sergey   \n",
       "5                                       Skubko Sergey   \n",
       "6                            Krasheninnikov Alexander   \n",
       "7                                      Fedosov Nikita   \n",
       "8   Tishin Vyacheslav,Horace’s Tree,\"Canvas, the\",...   \n",
       "9                                   Tishin Vyacheslav   \n",
       "10  Tishin Vyacheslav,Enlightened bears (diptych A...   \n",
       "11                                  Tishin Vyacheslav   \n",
       "12                                  Tishin Vyacheslav   \n",
       "13                                  Tishin Vyacheslav   \n",
       "14  Tishin Vyacheslav,Inversion of Watermelon Line...   \n",
       "15  Tishin Vyacheslav,There is a Choice,MDF,\"Acryl...   \n",
       "16  Tishin Vyacheslav,Welcome (diptych And You Can...   \n",
       "17                                  Tishin Vyacheslav   \n",
       "18                                        Kovba Nadya   \n",
       "19  Kovba Nadya,The harmony of the earth,Планшет,\"...   \n",
       "\n",
       "                                      name       material  technic  \\\n",
       "0                                   Spring          Холст    Масло   \n",
       "1                        March in the Park          Холст    Масло   \n",
       "2                Melody. Listening To Bach         Картон    Масло   \n",
       "3                       Suprematist signal          Холст    Масло   \n",
       "4                  Autumn in the mountains          Холст    Масло   \n",
       "5                      Sunny day in Suzdal          Холст    Масло   \n",
       "6                      Impenetrable forest          Холст    Масло   \n",
       "7                    Trinity-Sergius Lavra          Холст    Масло   \n",
       "8                                      NaN            NaN      NaN   \n",
       "9                                  Rainbow         Canvas    Print   \n",
       "10                                     NaN            NaN      NaN   \n",
       "11                                     OOP        Plastic    Print   \n",
       "12                                   UFO89         Canvas    Print   \n",
       "13  Our Avangard brings love and obedience  Polycarbonate  Acrylic   \n",
       "14                                     NaN            NaN      NaN   \n",
       "15                                     NaN            NaN      NaN   \n",
       "16                                     NaN            NaN      NaN   \n",
       "17                              Sacrifices     Fiberboard  Collage   \n",
       "18                                    Cuba          Холст    Масло   \n",
       "19                                     NaN            NaN      NaN   \n",
       "\n",
       "             genre           style v_size h_size     year   price  \n",
       "0        Landscape   Impressionism     80     60     2015  9880.0  \n",
       "1        Landscape   Expressionism     60     40     2003  9880.0  \n",
       "2         Portrait   Impressionism     70    110     1958  9880.0  \n",
       "3      Abstraction    Abstract art    101   60.5     1994  2540.0  \n",
       "4        Landscape   Impressionism     80     60     1961  2540.0  \n",
       "5        Landscape   Impressionism     60     70     1981  2540.0  \n",
       "6        Landscape         Realism     75     60     1994  1240.0  \n",
       "7        Landscape   Impressionism     49     35  Unknown  2540.0  \n",
       "8              NaN             NaN    NaN    NaN      NaN     NaN  \n",
       "9      Abstraction    Abstract art     40     60     2008   250.0  \n",
       "10             NaN             NaN    NaN    NaN      NaN     NaN  \n",
       "11  Genre painting  Conceptual art    100     80     2011   540.0  \n",
       "12  Genre painting    Abstract art     50     70     2014   360.0  \n",
       "13  Genre painting  Conceptual art    107    115     2020  4700.0  \n",
       "14             NaN             NaN    NaN    NaN      NaN     NaN  \n",
       "15             NaN             NaN    NaN    NaN      NaN     NaN  \n",
       "16             NaN             NaN    NaN    NaN      NaN     NaN  \n",
       "17     Abstraction  Conceptual art     58     33     2011  6870.0  \n",
       "18     Abstraction    Abstract art    100    120     2019  1930.0  \n",
       "19             NaN             NaN    NaN    NaN      NaN     NaN  "
      ]
     },
     "execution_count": 5,
     "metadata": {},
     "output_type": "execute_result"
    }
   ],
   "source": [
    "df.head(20)"
   ]
  },
  {
   "cell_type": "markdown",
   "metadata": {},
   "source": [
    "Some rows contain all information in the first column. My bad. Data in these rows contain comma except as a separator.\n",
    "\n",
    "Let's see how many wrong rows we have in our dataframe."
   ]
  },
  {
   "cell_type": "code",
   "execution_count": 6,
   "metadata": {},
   "outputs": [
    {
     "data": {
      "text/plain": [
       "author        0\n",
       "name        191\n",
       "material    191\n",
       "technic     191\n",
       "genre       209\n",
       "style       272\n",
       "v_size      195\n",
       "h_size      210\n",
       "year        191\n",
       "price       378\n",
       "dtype: int64"
      ]
     },
     "execution_count": 6,
     "metadata": {},
     "output_type": "execute_result"
    }
   ],
   "source": [
    "df.isnull().sum()"
   ]
  },
  {
   "cell_type": "markdown",
   "metadata": {},
   "source": [
    "We have 191 bad rows. But much worse that we have 187 rows with NaN in the price column. We can repair bad data, but data with NaN in the price column don't have any sense to us. For begins lets except these columns from our data. It's not a good decision, but we have 11000 rows to exploration anyway."
   ]
  },
  {
   "cell_type": "code",
   "execution_count": 7,
   "metadata": {},
   "outputs": [],
   "source": [
    "df = df[df['price'].notnull()]"
   ]
  },
  {
   "cell_type": "code",
   "execution_count": 8,
   "metadata": {},
   "outputs": [
    {
     "data": {
      "text/plain": [
       "author       0\n",
       "name         0\n",
       "material     0\n",
       "technic      0\n",
       "genre       18\n",
       "style       68\n",
       "v_size       2\n",
       "h_size      17\n",
       "year         0\n",
       "price        0\n",
       "dtype: int64"
      ]
     },
     "execution_count": 8,
     "metadata": {},
     "output_type": "execute_result"
    }
   ],
   "source": [
    "df.isnull().sum()"
   ]
  },
  {
   "cell_type": "markdown",
   "metadata": {},
   "source": [
    "Not so bad. We can work with this data. For example, we can fill empty cells value 'Unknown'.\n",
    "\n",
    "Actually we already scrapped 1885 cells the year column with value 'Unknown'. "
   ]
  },
  {
   "cell_type": "code",
   "execution_count": 9,
   "metadata": {},
   "outputs": [
    {
     "name": "stdout",
     "output_type": "stream",
     "text": [
      "1885\n"
     ]
    }
   ],
   "source": [
    "print(df['year'][df['year']=='Unknown'].count())"
   ]
  },
  {
   "cell_type": "code",
   "execution_count": 10,
   "metadata": {},
   "outputs": [
    {
     "data": {
      "text/html": [
       "<div>\n",
       "<style scoped>\n",
       "    .dataframe tbody tr th:only-of-type {\n",
       "        vertical-align: middle;\n",
       "    }\n",
       "\n",
       "    .dataframe tbody tr th {\n",
       "        vertical-align: top;\n",
       "    }\n",
       "\n",
       "    .dataframe thead th {\n",
       "        text-align: right;\n",
       "    }\n",
       "</style>\n",
       "<table border=\"1\" class=\"dataframe\">\n",
       "  <thead>\n",
       "    <tr style=\"text-align: right;\">\n",
       "      <th></th>\n",
       "      <th>author</th>\n",
       "      <th>name</th>\n",
       "      <th>material</th>\n",
       "      <th>technic</th>\n",
       "      <th>genre</th>\n",
       "      <th>style</th>\n",
       "      <th>v_size</th>\n",
       "      <th>h_size</th>\n",
       "      <th>year</th>\n",
       "      <th>price</th>\n",
       "    </tr>\n",
       "  </thead>\n",
       "  <tbody>\n",
       "    <tr>\n",
       "      <th>612</th>\n",
       "      <td>Filippov Yuriy</td>\n",
       "      <td>Autumn in Shirayevskaya galleries</td>\n",
       "      <td>Canvas/cardboard</td>\n",
       "      <td>Oil</td>\n",
       "      <td>Landscape</td>\n",
       "      <td>Impressionism</td>\n",
       "      <td>48</td>\n",
       "      <td>NaN</td>\n",
       "      <td>2006</td>\n",
       "      <td>10000.0</td>\n",
       "    </tr>\n",
       "    <tr>\n",
       "      <th>628</th>\n",
       "      <td>Filippov Yuriy</td>\n",
       "      <td>On a country road</td>\n",
       "      <td>Cardboard</td>\n",
       "      <td>Oil</td>\n",
       "      <td>Landscape</td>\n",
       "      <td>Realism</td>\n",
       "      <td>3046</td>\n",
       "      <td>NaN</td>\n",
       "      <td>1958</td>\n",
       "      <td>10000.0</td>\n",
       "    </tr>\n",
       "    <tr>\n",
       "      <th>1751</th>\n",
       "      <td>Ilyasova Alfiya</td>\n",
       "      <td>Madonna</td>\n",
       "      <td>Canvas</td>\n",
       "      <td>Oil</td>\n",
       "      <td>Genre painting</td>\n",
       "      <td>Symbolism</td>\n",
       "      <td>90</td>\n",
       "      <td>NaN</td>\n",
       "      <td>Unknown</td>\n",
       "      <td>3060.0</td>\n",
       "    </tr>\n",
       "    <tr>\n",
       "      <th>5057</th>\n",
       "      <td>Arkadev Kirill</td>\n",
       "      <td>Cast construction in Moscow</td>\n",
       "      <td>paper</td>\n",
       "      <td>Гелевые</td>\n",
       "      <td>Portrait</td>\n",
       "      <td>Surrealism</td>\n",
       "      <td>3</td>\n",
       "      <td>NaN</td>\n",
       "      <td>2009</td>\n",
       "      <td>2570.0</td>\n",
       "    </tr>\n",
       "    <tr>\n",
       "      <th>5767</th>\n",
       "      <td>Tokun Tatyana</td>\n",
       "      <td>Caretakers</td>\n",
       "      <td>Дерево, железо, стекло, пластик</td>\n",
       "      <td>Ассамбляж</td>\n",
       "      <td>Abstraction</td>\n",
       "      <td>Conceptual art</td>\n",
       "      <td>NaN</td>\n",
       "      <td>NaN</td>\n",
       "      <td>2016</td>\n",
       "      <td>1650.0</td>\n",
       "    </tr>\n",
       "    <tr>\n",
       "      <th>7387</th>\n",
       "      <td>Radtke Alexander</td>\n",
       "      <td>Monada</td>\n",
       "      <td>Canvas</td>\n",
       "      <td>Oil</td>\n",
       "      <td>Landscape</td>\n",
       "      <td>Abstract art</td>\n",
       "      <td>40</td>\n",
       "      <td>NaN</td>\n",
       "      <td>2017</td>\n",
       "      <td>3210.0</td>\n",
       "    </tr>\n",
       "    <tr>\n",
       "      <th>7394</th>\n",
       "      <td>Radtke Alexander</td>\n",
       "      <td>Somewhere in the air</td>\n",
       "      <td>Canvas</td>\n",
       "      <td>Oil</td>\n",
       "      <td>Abstraction</td>\n",
       "      <td>Abstract art</td>\n",
       "      <td>55</td>\n",
       "      <td>NaN</td>\n",
       "      <td>2017</td>\n",
       "      <td>3860.0</td>\n",
       "    </tr>\n",
       "    <tr>\n",
       "      <th>7400</th>\n",
       "      <td>Radtke Alexander</td>\n",
       "      <td>Castles in the air</td>\n",
       "      <td>Canvas</td>\n",
       "      <td>Oil</td>\n",
       "      <td>Landscape</td>\n",
       "      <td>Abstract art</td>\n",
       "      <td>40</td>\n",
       "      <td>NaN</td>\n",
       "      <td>2017</td>\n",
       "      <td>3000.0</td>\n",
       "    </tr>\n",
       "    <tr>\n",
       "      <th>7750</th>\n",
       "      <td>Pastukhov Konstantin</td>\n",
       "      <td>BioStal</td>\n",
       "      <td>Ватман</td>\n",
       "      <td>Графит</td>\n",
       "      <td>Abstraction</td>\n",
       "      <td>Abstract art</td>\n",
       "      <td>4</td>\n",
       "      <td>NaN</td>\n",
       "      <td>2016</td>\n",
       "      <td>500.0</td>\n",
       "    </tr>\n",
       "    <tr>\n",
       "      <th>8441</th>\n",
       "      <td>Arkadev Kirill</td>\n",
       "      <td>Mill</td>\n",
       "      <td>paper</td>\n",
       "      <td>Гелевые</td>\n",
       "      <td>Portrait</td>\n",
       "      <td>Surrealism</td>\n",
       "      <td>4</td>\n",
       "      <td>NaN</td>\n",
       "      <td>Unknown</td>\n",
       "      <td>1710.0</td>\n",
       "    </tr>\n",
       "    <tr>\n",
       "      <th>8449</th>\n",
       "      <td>Arkadev Kirill</td>\n",
       "      <td>Lake house</td>\n",
       "      <td>watercolorная</td>\n",
       "      <td>Гелевые</td>\n",
       "      <td>Landscape</td>\n",
       "      <td>Symbolism</td>\n",
       "      <td>3</td>\n",
       "      <td>NaN</td>\n",
       "      <td>Unknown</td>\n",
       "      <td>500.0</td>\n",
       "    </tr>\n",
       "    <tr>\n",
       "      <th>8450</th>\n",
       "      <td>Arkadev Kirill</td>\n",
       "      <td>Dali</td>\n",
       "      <td>paper</td>\n",
       "      <td>Гелевые</td>\n",
       "      <td>Portrait</td>\n",
       "      <td>Expressionism</td>\n",
       "      <td>3</td>\n",
       "      <td>NaN</td>\n",
       "      <td>Unknown</td>\n",
       "      <td>500.0</td>\n",
       "    </tr>\n",
       "    <tr>\n",
       "      <th>10465</th>\n",
       "      <td>Filippov Yuriy</td>\n",
       "      <td>Etude number 5 to the film “In the control room”</td>\n",
       "      <td>Cardboard</td>\n",
       "      <td>Oil</td>\n",
       "      <td>Portrait</td>\n",
       "      <td>Realism</td>\n",
       "      <td>NaN</td>\n",
       "      <td>NaN</td>\n",
       "      <td>1963</td>\n",
       "      <td>2570.0</td>\n",
       "    </tr>\n",
       "    <tr>\n",
       "      <th>10691</th>\n",
       "      <td>Filippov Yuriy</td>\n",
       "      <td>Still Life with Jug and flowers on a backgroun...</td>\n",
       "      <td>Cardboard</td>\n",
       "      <td>pastel</td>\n",
       "      <td>Still life</td>\n",
       "      <td>Realism</td>\n",
       "      <td>70110</td>\n",
       "      <td>NaN</td>\n",
       "      <td>1974</td>\n",
       "      <td>12260.0</td>\n",
       "    </tr>\n",
       "    <tr>\n",
       "      <th>10714</th>\n",
       "      <td>Filippov Yuriy</td>\n",
       "      <td>Trees-giants, sunlit</td>\n",
       "      <td>Canvas</td>\n",
       "      <td>Oil</td>\n",
       "      <td>Landscape</td>\n",
       "      <td>Realism</td>\n",
       "      <td>59.5</td>\n",
       "      <td>NaN</td>\n",
       "      <td>1992</td>\n",
       "      <td>10210.0</td>\n",
       "    </tr>\n",
       "    <tr>\n",
       "      <th>10779</th>\n",
       "      <td>Borisova Galina</td>\n",
       "      <td>Lily</td>\n",
       "      <td>Canvas/cardboard</td>\n",
       "      <td>Oil</td>\n",
       "      <td>Still life</td>\n",
       "      <td>Impressionism</td>\n",
       "      <td>35</td>\n",
       "      <td>NaN</td>\n",
       "      <td>2013</td>\n",
       "      <td>500.0</td>\n",
       "    </tr>\n",
       "    <tr>\n",
       "      <th>10802</th>\n",
       "      <td>Filippov Yuriy</td>\n",
       "      <td>Winter holiday</td>\n",
       "      <td>Canvas</td>\n",
       "      <td>Oil</td>\n",
       "      <td>Landscape</td>\n",
       "      <td>Impressionism</td>\n",
       "      <td>100100</td>\n",
       "      <td>NaN</td>\n",
       "      <td>1992</td>\n",
       "      <td>20430.0</td>\n",
       "    </tr>\n",
       "  </tbody>\n",
       "</table>\n",
       "</div>"
      ],
      "text/plain": [
       "                     author  \\\n",
       "612          Filippov Yuriy   \n",
       "628          Filippov Yuriy   \n",
       "1751        Ilyasova Alfiya   \n",
       "5057         Arkadev Kirill   \n",
       "5767          Tokun Tatyana   \n",
       "7387       Radtke Alexander   \n",
       "7394       Radtke Alexander   \n",
       "7400       Radtke Alexander   \n",
       "7750   Pastukhov Konstantin   \n",
       "8441         Arkadev Kirill   \n",
       "8449         Arkadev Kirill   \n",
       "8450         Arkadev Kirill   \n",
       "10465        Filippov Yuriy   \n",
       "10691        Filippov Yuriy   \n",
       "10714        Filippov Yuriy   \n",
       "10779       Borisova Galina   \n",
       "10802        Filippov Yuriy   \n",
       "\n",
       "                                                    name  \\\n",
       "612                    Autumn in Shirayevskaya galleries   \n",
       "628                                    On a country road   \n",
       "1751                                             Madonna   \n",
       "5057                         Cast construction in Moscow   \n",
       "5767                                          Caretakers   \n",
       "7387                                              Monada   \n",
       "7394                                Somewhere in the air   \n",
       "7400                                  Castles in the air   \n",
       "7750                                             BioStal   \n",
       "8441                                                Mill   \n",
       "8449                                          Lake house   \n",
       "8450                                                Dali   \n",
       "10465   Etude number 5 to the film “In the control room”   \n",
       "10691  Still Life with Jug and flowers on a backgroun...   \n",
       "10714                               Trees-giants, sunlit   \n",
       "10779                                               Lily   \n",
       "10802                                     Winter holiday   \n",
       "\n",
       "                              material    technic           genre  \\\n",
       "612                   Canvas/cardboard        Oil       Landscape   \n",
       "628                          Cardboard        Oil       Landscape   \n",
       "1751                            Canvas        Oil  Genre painting   \n",
       "5057                             paper    Гелевые        Portrait   \n",
       "5767   Дерево, железо, стекло, пластик  Ассамбляж     Abstraction   \n",
       "7387                            Canvas        Oil       Landscape   \n",
       "7394                            Canvas        Oil     Abstraction   \n",
       "7400                            Canvas        Oil       Landscape   \n",
       "7750                            Ватман     Графит     Abstraction   \n",
       "8441                             paper    Гелевые        Portrait   \n",
       "8449                     watercolorная    Гелевые       Landscape   \n",
       "8450                             paper    Гелевые        Portrait   \n",
       "10465                        Cardboard        Oil        Portrait   \n",
       "10691                        Cardboard     pastel      Still life   \n",
       "10714                           Canvas        Oil       Landscape   \n",
       "10779                 Canvas/cardboard        Oil      Still life   \n",
       "10802                           Canvas        Oil       Landscape   \n",
       "\n",
       "                style  v_size h_size     year    price  \n",
       "612     Impressionism      48    NaN     2006  10000.0  \n",
       "628           Realism    3046    NaN     1958  10000.0  \n",
       "1751        Symbolism      90    NaN  Unknown   3060.0  \n",
       "5057       Surrealism       3    NaN     2009   2570.0  \n",
       "5767   Conceptual art     NaN    NaN     2016   1650.0  \n",
       "7387     Abstract art      40    NaN     2017   3210.0  \n",
       "7394     Abstract art      55    NaN     2017   3860.0  \n",
       "7400     Abstract art      40    NaN     2017   3000.0  \n",
       "7750     Abstract art       4    NaN     2016    500.0  \n",
       "8441       Surrealism       4    NaN  Unknown   1710.0  \n",
       "8449        Symbolism       3    NaN  Unknown    500.0  \n",
       "8450    Expressionism       3    NaN  Unknown    500.0  \n",
       "10465         Realism     NaN    NaN     1963   2570.0  \n",
       "10691         Realism   70110    NaN     1974  12260.0  \n",
       "10714         Realism    59.5    NaN     1992  10210.0  \n",
       "10779   Impressionism      35    NaN     2013    500.0  \n",
       "10802   Impressionism  100100    NaN     1992  20430.0  "
      ]
     },
     "execution_count": 10,
     "metadata": {},
     "output_type": "execute_result"
    }
   ],
   "source": [
    "df[df['h_size'].isnull()]"
   ]
  },
  {
   "cell_type": "markdown",
   "metadata": {},
   "source": [
    "We see that 3 rows have error and value v_size must be split v_size and h_size. Let's do it and then fill 'NaN' and 'Unknown' value with '0'."
   ]
  },
  {
   "cell_type": "code",
   "execution_count": 11,
   "metadata": {},
   "outputs": [],
   "source": [
    "df.loc[(df['author'] == 'Filippov Yuriy') & (df['name'] == 'On a country road'), 'v_size'] = 30\n",
    "df.loc[(df['author'] == 'Filippov Yuriy') & (df['name'] == 'On a country road'), 'h_size'] = 46\n",
    "df.loc[(df['author'] == 'Filippov Yuriy') & (df['name'] == 'Still Life with Jug and flowers on a background of mountains'), 'v_size'] = 70\n",
    "df.loc[(df['author'] == 'Filippov Yuriy') & (df['name'] == 'Still Life with Jug and flowers on a background of mountains'), 'h_size'] = 110\n",
    "df.loc[(df['author'] == 'Filippov Yuriy') & (df['name'] == 'Winter holiday') & (df['year'] == '1992'), 'v_size'] = 100\n",
    "df.loc[(df['author'] == 'Filippov Yuriy') & (df['name'] == 'Winter holiday') & (df['year'] == '1992'), 'h_size'] = 100\n",
    "df['v_size'].fillna('0', inplace=True)\n",
    "df['h_size'].fillna('0', inplace=True)\n",
    "df.loc[df['v_size'] == 'Unknown', 'v_size'] = '0'\n",
    "df.loc[df['h_size'] == 'Unknown', 'h_size'] = '0'"
   ]
  },
  {
   "cell_type": "markdown",
   "metadata": {},
   "source": [
    "I'm not so creative person to define genre or style painting, so we fill all 'NaN' cell value 'Unknown'."
   ]
  },
  {
   "cell_type": "code",
   "execution_count": 12,
   "metadata": {},
   "outputs": [],
   "source": [
    "df['genre'].fillna('Unknown', inplace=True)\n",
    "df['style'].fillna('Unknown', inplace=True)"
   ]
  },
  {
   "cell_type": "markdown",
   "metadata": {},
   "source": [
    "Let's see how many unique values in our dataframe"
   ]
  },
  {
   "cell_type": "code",
   "execution_count": 13,
   "metadata": {},
   "outputs": [
    {
     "name": "stdout",
     "output_type": "stream",
     "text": [
      "author - 547\n",
      "name - 8824\n",
      "material - 149\n",
      "technic - 244\n",
      "genre - 10\n",
      "style - 9\n",
      "v_size - 294\n",
      "h_size - 315\n",
      "year - 82\n",
      "price - 475\n"
     ]
    }
   ],
   "source": [
    "for i in columns:\n",
    "    print(i + ' - ' + str(df[i].nunique()))"
   ]
  },
  {
   "cell_type": "markdown",
   "metadata": {},
   "source": [
    "Interesting that painters not so original in naming a picture. About 20 % name repeated.\n",
    "\n",
    "Now we will check how many authors have only one picture in our data."
   ]
  },
  {
   "cell_type": "code",
   "execution_count": 14,
   "metadata": {},
   "outputs": [
    {
     "name": "stdout",
     "output_type": "stream",
     "text": [
      "71\n"
     ]
    }
   ],
   "source": [
    "temp_df = df.groupby(['author'])['name'].count().reset_index(name='count')\n",
    "print(temp_df['author'][temp_df['count'] == 1].count())"
   ]
  },
  {
   "cell_type": "markdown",
   "metadata": {},
   "source": [
    "It's bad. We can't much discover about these authors.\n",
    "\n",
    "How about authors with a maximum number of pictures in our data?"
   ]
  },
  {
   "cell_type": "code",
   "execution_count": 15,
   "metadata": {},
   "outputs": [
    {
     "data": {
      "text/html": [
       "<div>\n",
       "<style scoped>\n",
       "    .dataframe tbody tr th:only-of-type {\n",
       "        vertical-align: middle;\n",
       "    }\n",
       "\n",
       "    .dataframe tbody tr th {\n",
       "        vertical-align: top;\n",
       "    }\n",
       "\n",
       "    .dataframe thead th {\n",
       "        text-align: right;\n",
       "    }\n",
       "</style>\n",
       "<table border=\"1\" class=\"dataframe\">\n",
       "  <thead>\n",
       "    <tr style=\"text-align: right;\">\n",
       "      <th></th>\n",
       "      <th>author</th>\n",
       "      <th>count</th>\n",
       "    </tr>\n",
       "  </thead>\n",
       "  <tbody>\n",
       "    <tr>\n",
       "      <th>125</th>\n",
       "      <td>Filippov Yuriy</td>\n",
       "      <td>392</td>\n",
       "    </tr>\n",
       "    <tr>\n",
       "      <th>265</th>\n",
       "      <td>Kulebakin Nikolay</td>\n",
       "      <td>309</td>\n",
       "    </tr>\n",
       "    <tr>\n",
       "      <th>255</th>\n",
       "      <td>Kruglova Svetlana</td>\n",
       "      <td>286</td>\n",
       "    </tr>\n",
       "    <tr>\n",
       "      <th>94</th>\n",
       "      <td>Dubovoy Igor</td>\n",
       "      <td>225</td>\n",
       "    </tr>\n",
       "    <tr>\n",
       "      <th>170</th>\n",
       "      <td>Halzev Nikolay</td>\n",
       "      <td>219</td>\n",
       "    </tr>\n",
       "    <tr>\n",
       "      <th>169</th>\n",
       "      <td>Guzenko Pavel</td>\n",
       "      <td>205</td>\n",
       "    </tr>\n",
       "    <tr>\n",
       "      <th>126</th>\n",
       "      <td>Firsov Aleksey</td>\n",
       "      <td>184</td>\n",
       "    </tr>\n",
       "    <tr>\n",
       "      <th>254</th>\n",
       "      <td>Kruglova Irina</td>\n",
       "      <td>176</td>\n",
       "    </tr>\n",
       "    <tr>\n",
       "      <th>304</th>\n",
       "      <td>Mishagin Andrey</td>\n",
       "      <td>176</td>\n",
       "    </tr>\n",
       "    <tr>\n",
       "      <th>275</th>\n",
       "      <td>Lejnikov Yuriy</td>\n",
       "      <td>174</td>\n",
       "    </tr>\n",
       "    <tr>\n",
       "      <th>182</th>\n",
       "      <td>Iva Irina</td>\n",
       "      <td>160</td>\n",
       "    </tr>\n",
       "    <tr>\n",
       "      <th>290</th>\n",
       "      <td>Mantrov Dmitriy</td>\n",
       "      <td>154</td>\n",
       "    </tr>\n",
       "    <tr>\n",
       "      <th>347</th>\n",
       "      <td>Ostrovskaya Elena</td>\n",
       "      <td>149</td>\n",
       "    </tr>\n",
       "    <tr>\n",
       "      <th>231</th>\n",
       "      <td>Kolosov Andrey</td>\n",
       "      <td>149</td>\n",
       "    </tr>\n",
       "    <tr>\n",
       "      <th>173</th>\n",
       "      <td>Hatmulina Olga</td>\n",
       "      <td>146</td>\n",
       "    </tr>\n",
       "    <tr>\n",
       "      <th>489</th>\n",
       "      <td>Tryndyk Vasiliy</td>\n",
       "      <td>127</td>\n",
       "    </tr>\n",
       "    <tr>\n",
       "      <th>301</th>\n",
       "      <td>Micnik Aleksandr</td>\n",
       "      <td>126</td>\n",
       "    </tr>\n",
       "    <tr>\n",
       "      <th>287</th>\n",
       "      <td>Makarov Anton</td>\n",
       "      <td>106</td>\n",
       "    </tr>\n",
       "    <tr>\n",
       "      <th>152</th>\n",
       "      <td>Goryachev Aleksandr</td>\n",
       "      <td>92</td>\n",
       "    </tr>\n",
       "    <tr>\n",
       "      <th>78</th>\n",
       "      <td>Davydov AV</td>\n",
       "      <td>87</td>\n",
       "    </tr>\n",
       "  </tbody>\n",
       "</table>\n",
       "</div>"
      ],
      "text/plain": [
       "                  author  count\n",
       "125       Filippov Yuriy    392\n",
       "265    Kulebakin Nikolay    309\n",
       "255    Kruglova Svetlana    286\n",
       "94          Dubovoy Igor    225\n",
       "170       Halzev Nikolay    219\n",
       "169        Guzenko Pavel    205\n",
       "126       Firsov Aleksey    184\n",
       "254       Kruglova Irina    176\n",
       "304      Mishagin Andrey    176\n",
       "275       Lejnikov Yuriy    174\n",
       "182            Iva Irina    160\n",
       "290      Mantrov Dmitriy    154\n",
       "347    Ostrovskaya Elena    149\n",
       "231       Kolosov Andrey    149\n",
       "173       Hatmulina Olga    146\n",
       "489      Tryndyk Vasiliy    127\n",
       "301     Micnik Aleksandr    126\n",
       "287        Makarov Anton    106\n",
       "152  Goryachev Aleksandr     92\n",
       "78            Davydov AV     87"
      ]
     },
     "execution_count": 15,
     "metadata": {},
     "output_type": "execute_result"
    }
   ],
   "source": [
    "temp_df.sort_values(('count'),ascending=False).iloc[:20]"
   ]
  },
  {
   "cell_type": "markdown",
   "metadata": {},
   "source": [
    "Wow, 392 pictures, very productive!\n",
    "\n",
    "Let's see how diverse the price pictures of this author."
   ]
  },
  {
   "cell_type": "code",
   "execution_count": 16,
   "metadata": {},
   "outputs": [
    {
     "data": {
      "text/plain": [
       "41"
      ]
     },
     "execution_count": 16,
     "metadata": {},
     "output_type": "execute_result"
    }
   ],
   "source": [
    "df['price'][df['author'] == 'Filippov Yuriy'].nunique()"
   ]
  },
  {
   "cell_type": "markdown",
   "metadata": {},
   "source": [
    "We have 41 unique prices of pictures.\n",
    "\n",
    "Now we will check the dispersion of this price."
   ]
  },
  {
   "cell_type": "code",
   "execution_count": 17,
   "metadata": {},
   "outputs": [
    {
     "data": {
      "text/plain": [
       "array([  500.,  1710.,  1960.,  2570.,  2760.,  3000.,  3430.,  4290.,\n",
       "        4900.,  5520.,  6000.,  6130.,  6430.,  7290.,  7350.,  7970.,\n",
       "        8140.,  8570.,  8580.,  9190.,  9810., 10000., 10200., 10210.,\n",
       "       10430., 10620., 10730., 11030., 11440., 12260., 14300., 15530.,\n",
       "       16340., 18390., 20430., 22470., 23700., 24510., 34730., 36770.,\n",
       "       40860.])"
      ]
     },
     "execution_count": 17,
     "metadata": {},
     "output_type": "execute_result"
    }
   ],
   "source": [
    "np.sort(df['price'][df['author'] == 'Filippov Yuriy'].unique())"
   ]
  },
  {
   "cell_type": "markdown",
   "metadata": {},
   "source": [
    "Let's see on the graph how many pictures are on sale about every price."
   ]
  },
  {
   "cell_type": "code",
   "execution_count": 18,
   "metadata": {},
   "outputs": [],
   "source": [
    "temp_df = df[df['author'] == 'Filippov Yuriy'].groupby(['price']).agg({'name': 'count'}).reset_index()"
   ]
  },
  {
   "cell_type": "code",
   "execution_count": 19,
   "metadata": {},
   "outputs": [
    {
     "data": {
      "image/png": "[encoded data removed]",
      "text/plain": [
       "<Figure size 864x432 with 1 Axes>"
      ]
     },
     "metadata": {},
     "output_type": "display_data"
    }
   ],
   "source": [
    "gf.bar_count_prices(temp_df['price'], temp_df['name'], 'Filippov Yuriy')"
   ]
  },
  {
   "cell_type": "markdown",
   "metadata": {},
   "source": [
    "We see that pretty much price about 10000 euros. If we need exact value we can check it on temp_df dataframe.\n",
    "\n",
    "But one picture outlier from the group and has a huge price. Let's try to understand why."
   ]
  },
  {
   "cell_type": "code",
   "execution_count": 20,
   "metadata": {},
   "outputs": [
    {
     "data": {
      "text/html": [
       "<div>\n",
       "<style scoped>\n",
       "    .dataframe tbody tr th:only-of-type {\n",
       "        vertical-align: middle;\n",
       "    }\n",
       "\n",
       "    .dataframe tbody tr th {\n",
       "        vertical-align: top;\n",
       "    }\n",
       "\n",
       "    .dataframe thead th {\n",
       "        text-align: right;\n",
       "    }\n",
       "</style>\n",
       "<table border=\"1\" class=\"dataframe\">\n",
       "  <thead>\n",
       "    <tr style=\"text-align: right;\">\n",
       "      <th></th>\n",
       "      <th>author</th>\n",
       "      <th>name</th>\n",
       "      <th>material</th>\n",
       "      <th>technic</th>\n",
       "      <th>genre</th>\n",
       "      <th>style</th>\n",
       "      <th>v_size</th>\n",
       "      <th>h_size</th>\n",
       "      <th>year</th>\n",
       "      <th>price</th>\n",
       "    </tr>\n",
       "  </thead>\n",
       "  <tbody>\n",
       "    <tr>\n",
       "      <th>2602</th>\n",
       "      <td>Filippov Yuriy</td>\n",
       "      <td>Seeing the Russian winter. Festivities</td>\n",
       "      <td>Canvas</td>\n",
       "      <td>Oil</td>\n",
       "      <td>Landscape</td>\n",
       "      <td>Realism</td>\n",
       "      <td>212</td>\n",
       "      <td>340</td>\n",
       "      <td>1964</td>\n",
       "      <td>40860.0</td>\n",
       "    </tr>\n",
       "  </tbody>\n",
       "</table>\n",
       "</div>"
      ],
      "text/plain": [
       "              author                                    name material technic  \\\n",
       "2602  Filippov Yuriy  Seeing the Russian winter. Festivities   Canvas     Oil   \n",
       "\n",
       "          genre    style v_size h_size  year    price  \n",
       "2602  Landscape  Realism    212    340  1964  40860.0  "
      ]
     },
     "execution_count": 20,
     "metadata": {},
     "output_type": "execute_result"
    }
   ],
   "source": [
    "df[(df['author'] == 'Filippov Yuriy') & (df['price'] == 40860)]"
   ]
  },
  {
   "cell_type": "markdown",
   "metadata": {},
   "source": [
    "Let's see the correlation between price and year painting pictures. Maybe the oldest pictures has the highest price."
   ]
  },
  {
   "cell_type": "code",
   "execution_count": 21,
   "metadata": {},
   "outputs": [
    {
     "data": {
      "image/png": "[encoded data removed]",
      "text/plain": [
       "<Figure size 1440x1440 with 1 Axes>"
      ]
     },
     "metadata": {},
     "output_type": "display_data"
    }
   ],
   "source": [
    "x = df['year'][df['author'] == 'Filippov Yuriy']\n",
    "y = df['price'][df['author'] == 'Filippov Yuriy']\n",
    "\n",
    "\n",
    "gf.crosstab_graph(x, y, 'Filippov Yuriy')"
   ]
  },
  {
   "cell_type": "markdown",
   "metadata": {},
   "source": [
    "There's no correlation between price and year. The last row of the graph is the 'Unknown' year, but anyway it's don't change the big picture.\n",
    "Now we will check the correlation between the price and square of the picture. Maybe the biggest picture has the highest price.\n",
    "But for the beginning we add to our dataframe column 'square'."
   ]
  },
  {
   "cell_type": "markdown",
   "metadata": {},
   "source": [
    "I have some trouble with a type of value in columns v_size and h_size, so here we reducible value to type float."
   ]
  },
  {
   "cell_type": "code",
   "execution_count": 22,
   "metadata": {},
   "outputs": [
    {
     "name": "stderr",
     "output_type": "stream",
     "text": [
      "C:\\Users\\Andrew\\Anaconda3\\envs\\torch3\\lib\\site-packages\\pandas\\core\\indexing.py:205: SettingWithCopyWarning: \n",
      "A value is trying to be set on a copy of a slice from a DataFrame\n",
      "\n",
      "See the caveats in the documentation: http://pandas.pydata.org/pandas-docs/stable/user_guide/indexing.html#returning-a-view-versus-a-copy\n",
      "  self._setitem_with_indexer(indexer, value)\n"
     ]
    }
   ],
   "source": [
    "#some value end up to '.' we add '0' in the end and then can change type to float\n",
    "for i in range(len(df['v_size'])):\n",
    "    try:\n",
    "        if df['v_size'].iloc[i].endswith('.'):\n",
    "            df['v_size'].iloc[i] += '0'\n",
    "    except AttributeError:\n",
    "        None\n",
    "for i in range(len(df['h_size'])):\n",
    "    try:\n",
    "        if df['h_size'].iloc[i].endswith('.'):\n",
    "            df['h_size'].iloc[i] += '0'\n",
    "    except AttributeError:\n",
    "        None\n",
    "\n",
    "df = df.astype({'v_size': float, 'h_size': float})"
   ]
  },
  {
   "cell_type": "code",
   "execution_count": 23,
   "metadata": {},
   "outputs": [],
   "source": [
    "df['square'] = df.apply(lambda row: row.v_size * row.h_size, axis=1)"
   ]
  },
  {
   "cell_type": "code",
   "execution_count": 24,
   "metadata": {},
   "outputs": [
    {
     "data": {
      "image/png": "[encoded data removed]",
      "text/plain": [
       "<Figure size 1440x1440 with 1 Axes>"
      ]
     },
     "metadata": {},
     "output_type": "display_data"
    }
   ],
   "source": [
    "x = df['square'][df['author'] == 'Filippov Yuriy']\n",
    "y = df['price'][df['author'] == 'Filippov Yuriy']\n",
    "\n",
    "gf.crosstab_graph(x, y, 'Filippov Yuriy')"
   ]
  },
  {
   "cell_type": "markdown",
   "metadata": {},
   "source": [
    "Ok, here we can see the correlation between price and size of the picture. It's not brightly noticeable but she is really here."
   ]
  },
  {
   "cell_type": "markdown",
   "metadata": {},
   "source": [
    "I have checked the correlation on authors who have more than 100 pictures. Authors 'Guzenko Pavel', 'Kolosov Andrey', 'Micnik Aleksandr' have a strongly marked price on their pictures. But the other 15 authors have a correlation between the size of the picture and the price. And than a more diverse price then stronger correlation.\n",
    "\n",
    "So if you are beginning author, then for more profit write a bigger picture. Actually one of the brightest new star of Russian art Arseniy 'Pokras Lampas' Pyzhenko become famous because of 100-1000 square metres calligraphic art objects.\n",
    "\n",
    "And no one authors don't have a correlation between price and year, material, style and genre."
   ]
  },
  {
   "cell_type": "markdown",
   "metadata": {},
   "source": [
    "Move on to the next feature 'style'. Let's count basic specifications."
   ]
  },
  {
   "cell_type": "code",
   "execution_count": 26,
   "metadata": {},
   "outputs": [
    {
     "data": {
      "text/plain": [
       "array(['Impressionism', 'Expressionism', 'Abstract art', 'Realism',\n",
       "       'Conceptual art', 'Naive art', 'Symbolism', 'Surrealism',\n",
       "       'Unknown'], dtype=object)"
      ]
     },
     "execution_count": 26,
     "metadata": {},
     "output_type": "execute_result"
    }
   ],
   "source": [
    "df['style'].unique()"
   ]
  },
  {
   "cell_type": "code",
   "execution_count": 27,
   "metadata": {},
   "outputs": [
    {
     "data": {
      "text/html": [
       "<div>\n",
       "<style scoped>\n",
       "    .dataframe tbody tr th:only-of-type {\n",
       "        vertical-align: middle;\n",
       "    }\n",
       "\n",
       "    .dataframe tbody tr th {\n",
       "        vertical-align: top;\n",
       "    }\n",
       "\n",
       "    .dataframe thead tr th {\n",
       "        text-align: left;\n",
       "    }\n",
       "\n",
       "    .dataframe thead tr:last-of-type th {\n",
       "        text-align: right;\n",
       "    }\n",
       "</style>\n",
       "<table border=\"1\" class=\"dataframe\">\n",
       "  <thead>\n",
       "    <tr>\n",
       "      <th></th>\n",
       "      <th>name</th>\n",
       "      <th colspan=\"3\" halign=\"left\">price</th>\n",
       "    </tr>\n",
       "    <tr>\n",
       "      <th></th>\n",
       "      <th>count</th>\n",
       "      <th>mean</th>\n",
       "      <th>min</th>\n",
       "      <th>max</th>\n",
       "    </tr>\n",
       "    <tr>\n",
       "      <th>style</th>\n",
       "      <th></th>\n",
       "      <th></th>\n",
       "      <th></th>\n",
       "      <th></th>\n",
       "    </tr>\n",
       "  </thead>\n",
       "  <tbody>\n",
       "    <tr>\n",
       "      <th>Abstract art</th>\n",
       "      <td>1418</td>\n",
       "      <td>3504.033850</td>\n",
       "      <td>250.0</td>\n",
       "      <td>220000.0</td>\n",
       "    </tr>\n",
       "    <tr>\n",
       "      <th>Conceptual art</th>\n",
       "      <td>295</td>\n",
       "      <td>4129.084746</td>\n",
       "      <td>500.0</td>\n",
       "      <td>36860.0</td>\n",
       "    </tr>\n",
       "    <tr>\n",
       "      <th>Expressionism</th>\n",
       "      <td>441</td>\n",
       "      <td>3916.780045</td>\n",
       "      <td>500.0</td>\n",
       "      <td>46430.0</td>\n",
       "    </tr>\n",
       "    <tr>\n",
       "      <th>Impressionism</th>\n",
       "      <td>3593</td>\n",
       "      <td>2246.681046</td>\n",
       "      <td>300.0</td>\n",
       "      <td>135000.0</td>\n",
       "    </tr>\n",
       "    <tr>\n",
       "      <th>Naive art</th>\n",
       "      <td>148</td>\n",
       "      <td>3035.202703</td>\n",
       "      <td>80.0</td>\n",
       "      <td>26800.0</td>\n",
       "    </tr>\n",
       "    <tr>\n",
       "      <th>Realism</th>\n",
       "      <td>3453</td>\n",
       "      <td>2996.332175</td>\n",
       "      <td>210.0</td>\n",
       "      <td>63000.0</td>\n",
       "    </tr>\n",
       "    <tr>\n",
       "      <th>Surrealism</th>\n",
       "      <td>136</td>\n",
       "      <td>3089.338235</td>\n",
       "      <td>500.0</td>\n",
       "      <td>10000.0</td>\n",
       "    </tr>\n",
       "    <tr>\n",
       "      <th>Symbolism</th>\n",
       "      <td>1448</td>\n",
       "      <td>3087.161602</td>\n",
       "      <td>80.0</td>\n",
       "      <td>220000.0</td>\n",
       "    </tr>\n",
       "    <tr>\n",
       "      <th>Unknown</th>\n",
       "      <td>68</td>\n",
       "      <td>769.558824</td>\n",
       "      <td>500.0</td>\n",
       "      <td>3430.0</td>\n",
       "    </tr>\n",
       "  </tbody>\n",
       "</table>\n",
       "</div>"
      ],
      "text/plain": [
       "                name        price                 \n",
       "               count         mean    min       max\n",
       "style                                             \n",
       "Abstract art    1418  3504.033850  250.0  220000.0\n",
       "Conceptual art   295  4129.084746  500.0   36860.0\n",
       "Expressionism    441  3916.780045  500.0   46430.0\n",
       "Impressionism   3593  2246.681046  300.0  135000.0\n",
       "Naive art        148  3035.202703   80.0   26800.0\n",
       "Realism         3453  2996.332175  210.0   63000.0\n",
       "Surrealism       136  3089.338235  500.0   10000.0\n",
       "Symbolism       1448  3087.161602   80.0  220000.0\n",
       "Unknown           68   769.558824  500.0    3430.0"
      ]
     },
     "execution_count": 27,
     "metadata": {},
     "output_type": "execute_result"
    }
   ],
   "source": [
    "df.groupby(['style']).agg({'name': ['count'], 'price': ['mean', 'min', 'max']})"
   ]
  },
  {
   "cell_type": "code",
   "execution_count": 28,
   "metadata": {},
   "outputs": [
    {
     "data": {
      "image/png": "[encoded data removed]",
      "text/plain": [
       "<Figure size 864x432 with 1 Axes>"
      ]
     },
     "metadata": {},
     "output_type": "display_data"
    }
   ],
   "source": [
    "gf.boxplot_graph(df, 'price', 'style')"
   ]
  },
  {
   "cell_type": "markdown",
   "metadata": {},
   "source": [
    "Ok, we have a deal with outliers here. We must remove them for a more accurate analysis.\n",
    "\n",
    "But how much price must we remove here?"
   ]
  },
  {
   "cell_type": "code",
   "execution_count": 29,
   "metadata": {},
   "outputs": [
    {
     "data": {
      "text/plain": [
       "232"
      ]
     },
     "execution_count": 29,
     "metadata": {},
     "output_type": "execute_result"
    }
   ],
   "source": [
    "df['price'][df['price']>13000].count()"
   ]
  },
  {
   "cell_type": "markdown",
   "metadata": {},
   "source": [
    "232 is 2.1% (232/11000*100%) of the total number of prices. I think we can sacrifice them."
   ]
  },
  {
   "cell_type": "code",
   "execution_count": 30,
   "metadata": {},
   "outputs": [],
   "source": [
    "test_df = df[df['price']<=13000]"
   ]
  },
  {
   "cell_type": "code",
   "execution_count": 31,
   "metadata": {},
   "outputs": [
    {
     "data": {
      "text/html": [
       "<div>\n",
       "<style scoped>\n",
       "    .dataframe tbody tr th:only-of-type {\n",
       "        vertical-align: middle;\n",
       "    }\n",
       "\n",
       "    .dataframe tbody tr th {\n",
       "        vertical-align: top;\n",
       "    }\n",
       "\n",
       "    .dataframe thead tr th {\n",
       "        text-align: left;\n",
       "    }\n",
       "\n",
       "    .dataframe thead tr:last-of-type th {\n",
       "        text-align: right;\n",
       "    }\n",
       "</style>\n",
       "<table border=\"1\" class=\"dataframe\">\n",
       "  <thead>\n",
       "    <tr>\n",
       "      <th></th>\n",
       "      <th>name</th>\n",
       "      <th colspan=\"3\" halign=\"left\">price</th>\n",
       "    </tr>\n",
       "    <tr>\n",
       "      <th></th>\n",
       "      <th>count</th>\n",
       "      <th>mean</th>\n",
       "      <th>min</th>\n",
       "      <th>max</th>\n",
       "    </tr>\n",
       "    <tr>\n",
       "      <th>style</th>\n",
       "      <th></th>\n",
       "      <th></th>\n",
       "      <th></th>\n",
       "      <th></th>\n",
       "    </tr>\n",
       "  </thead>\n",
       "  <tbody>\n",
       "    <tr>\n",
       "      <th>Abstract art</th>\n",
       "      <td>1366</td>\n",
       "      <td>2591.734993</td>\n",
       "      <td>250.0</td>\n",
       "      <td>12800.0</td>\n",
       "    </tr>\n",
       "    <tr>\n",
       "      <th>Conceptual art</th>\n",
       "      <td>283</td>\n",
       "      <td>3372.438163</td>\n",
       "      <td>500.0</td>\n",
       "      <td>11430.0</td>\n",
       "    </tr>\n",
       "    <tr>\n",
       "      <th>Expressionism</th>\n",
       "      <td>423</td>\n",
       "      <td>3044.278960</td>\n",
       "      <td>500.0</td>\n",
       "      <td>13000.0</td>\n",
       "    </tr>\n",
       "    <tr>\n",
       "      <th>Impressionism</th>\n",
       "      <td>3543</td>\n",
       "      <td>1835.014112</td>\n",
       "      <td>300.0</td>\n",
       "      <td>12860.0</td>\n",
       "    </tr>\n",
       "    <tr>\n",
       "      <th>Naive art</th>\n",
       "      <td>136</td>\n",
       "      <td>1774.632353</td>\n",
       "      <td>80.0</td>\n",
       "      <td>10000.0</td>\n",
       "    </tr>\n",
       "    <tr>\n",
       "      <th>Realism</th>\n",
       "      <td>3403</td>\n",
       "      <td>2672.305319</td>\n",
       "      <td>210.0</td>\n",
       "      <td>13000.0</td>\n",
       "    </tr>\n",
       "    <tr>\n",
       "      <th>Surrealism</th>\n",
       "      <td>136</td>\n",
       "      <td>3089.338235</td>\n",
       "      <td>500.0</td>\n",
       "      <td>10000.0</td>\n",
       "    </tr>\n",
       "    <tr>\n",
       "      <th>Symbolism</th>\n",
       "      <td>1410</td>\n",
       "      <td>2415.950355</td>\n",
       "      <td>80.0</td>\n",
       "      <td>12800.0</td>\n",
       "    </tr>\n",
       "    <tr>\n",
       "      <th>Unknown</th>\n",
       "      <td>68</td>\n",
       "      <td>769.558824</td>\n",
       "      <td>500.0</td>\n",
       "      <td>3430.0</td>\n",
       "    </tr>\n",
       "  </tbody>\n",
       "</table>\n",
       "</div>"
      ],
      "text/plain": [
       "                name        price                \n",
       "               count         mean    min      max\n",
       "style                                            \n",
       "Abstract art    1366  2591.734993  250.0  12800.0\n",
       "Conceptual art   283  3372.438163  500.0  11430.0\n",
       "Expressionism    423  3044.278960  500.0  13000.0\n",
       "Impressionism   3543  1835.014112  300.0  12860.0\n",
       "Naive art        136  1774.632353   80.0  10000.0\n",
       "Realism         3403  2672.305319  210.0  13000.0\n",
       "Surrealism       136  3089.338235  500.0  10000.0\n",
       "Symbolism       1410  2415.950355   80.0  12800.0\n",
       "Unknown           68   769.558824  500.0   3430.0"
      ]
     },
     "execution_count": 31,
     "metadata": {},
     "output_type": "execute_result"
    }
   ],
   "source": [
    "test_df.groupby(['style']).agg({'name': ['count'], 'price': ['mean', 'min', 'max']})"
   ]
  },
  {
   "cell_type": "code",
   "execution_count": 32,
   "metadata": {},
   "outputs": [
    {
     "name": "stdout",
     "output_type": "stream",
     "text": [
      "<class 'pandas.core.frame.DataFrame'>\n"
     ]
    }
   ],
   "source": [
    "print(type(test_df))"
   ]
  },
  {
   "cell_type": "code",
   "execution_count": 31,
   "metadata": {},
   "outputs": [
    {
     "data": {
      "image/png": "[encoded data removed]",
      "text/plain": [
       "<Figure size 864x432 with 1 Axes>"
      ]
     },
     "metadata": {},
     "output_type": "display_data"
    }
   ],
   "source": [
    "gf.boxplot_graph(test_df, 'price', 'style')"
   ]
  },
  {
   "cell_type": "markdown",
   "metadata": {},
   "source": [
    "We see that much valued 'Conceptual art', 'Surrealism' and 'Expressionism' style with small amount of pictures but has the biggest median and third quartile.\n",
    "\n",
    "Let's do the same with the genre."
   ]
  },
  {
   "cell_type": "code",
   "execution_count": 32,
   "metadata": {},
   "outputs": [
    {
     "data": {
      "text/plain": [
       "array(['Landscape', 'Portrait', 'Abstraction', 'Genre painting',\n",
       "       'Nude and erotic', 'Still life', 'Flowers', 'Religion and myth',\n",
       "       'Animals', 'Unknown'], dtype=object)"
      ]
     },
     "execution_count": 32,
     "metadata": {},
     "output_type": "execute_result"
    }
   ],
   "source": [
    "df['genre'].unique()"
   ]
  },
  {
   "cell_type": "code",
   "execution_count": 33,
   "metadata": {},
   "outputs": [
    {
     "data": {
      "text/html": [
       "<div>\n",
       "<style scoped>\n",
       "    .dataframe tbody tr th:only-of-type {\n",
       "        vertical-align: middle;\n",
       "    }\n",
       "\n",
       "    .dataframe tbody tr th {\n",
       "        vertical-align: top;\n",
       "    }\n",
       "\n",
       "    .dataframe thead tr th {\n",
       "        text-align: left;\n",
       "    }\n",
       "\n",
       "    .dataframe thead tr:last-of-type th {\n",
       "        text-align: right;\n",
       "    }\n",
       "</style>\n",
       "<table border=\"1\" class=\"dataframe\">\n",
       "  <thead>\n",
       "    <tr>\n",
       "      <th></th>\n",
       "      <th>name</th>\n",
       "      <th colspan=\"3\" halign=\"left\">price</th>\n",
       "    </tr>\n",
       "    <tr>\n",
       "      <th></th>\n",
       "      <th>count</th>\n",
       "      <th>mean</th>\n",
       "      <th>min</th>\n",
       "      <th>max</th>\n",
       "    </tr>\n",
       "    <tr>\n",
       "      <th>genre</th>\n",
       "      <th></th>\n",
       "      <th></th>\n",
       "      <th></th>\n",
       "      <th></th>\n",
       "    </tr>\n",
       "  </thead>\n",
       "  <tbody>\n",
       "    <tr>\n",
       "      <th>Abstraction</th>\n",
       "      <td>1409</td>\n",
       "      <td>3131.376863</td>\n",
       "      <td>230.0</td>\n",
       "      <td>115000.0</td>\n",
       "    </tr>\n",
       "    <tr>\n",
       "      <th>Animals</th>\n",
       "      <td>300</td>\n",
       "      <td>2292.983333</td>\n",
       "      <td>230.0</td>\n",
       "      <td>25710.0</td>\n",
       "    </tr>\n",
       "    <tr>\n",
       "      <th>Flowers</th>\n",
       "      <td>925</td>\n",
       "      <td>1625.751351</td>\n",
       "      <td>210.0</td>\n",
       "      <td>24570.0</td>\n",
       "    </tr>\n",
       "    <tr>\n",
       "      <th>Genre painting</th>\n",
       "      <td>1097</td>\n",
       "      <td>4072.757521</td>\n",
       "      <td>210.0</td>\n",
       "      <td>220000.0</td>\n",
       "    </tr>\n",
       "    <tr>\n",
       "      <th>Landscape</th>\n",
       "      <td>4996</td>\n",
       "      <td>2770.799640</td>\n",
       "      <td>80.0</td>\n",
       "      <td>135000.0</td>\n",
       "    </tr>\n",
       "    <tr>\n",
       "      <th>Nude and erotic</th>\n",
       "      <td>182</td>\n",
       "      <td>4428.186813</td>\n",
       "      <td>420.0</td>\n",
       "      <td>60000.0</td>\n",
       "    </tr>\n",
       "    <tr>\n",
       "      <th>Portrait</th>\n",
       "      <td>903</td>\n",
       "      <td>3668.156146</td>\n",
       "      <td>250.0</td>\n",
       "      <td>51430.0</td>\n",
       "    </tr>\n",
       "    <tr>\n",
       "      <th>Religion and myth</th>\n",
       "      <td>81</td>\n",
       "      <td>3120.987654</td>\n",
       "      <td>300.0</td>\n",
       "      <td>34290.0</td>\n",
       "    </tr>\n",
       "    <tr>\n",
       "      <th>Still life</th>\n",
       "      <td>1089</td>\n",
       "      <td>2145.674931</td>\n",
       "      <td>500.0</td>\n",
       "      <td>30000.0</td>\n",
       "    </tr>\n",
       "    <tr>\n",
       "      <th>Unknown</th>\n",
       "      <td>18</td>\n",
       "      <td>5688.333333</td>\n",
       "      <td>500.0</td>\n",
       "      <td>21390.0</td>\n",
       "    </tr>\n",
       "  </tbody>\n",
       "</table>\n",
       "</div>"
      ],
      "text/plain": [
       "                   name        price                 \n",
       "                  count         mean    min       max\n",
       "genre                                                \n",
       "Abstraction        1409  3131.376863  230.0  115000.0\n",
       "Animals             300  2292.983333  230.0   25710.0\n",
       "Flowers             925  1625.751351  210.0   24570.0\n",
       "Genre painting     1097  4072.757521  210.0  220000.0\n",
       "Landscape          4996  2770.799640   80.0  135000.0\n",
       "Nude and erotic     182  4428.186813  420.0   60000.0\n",
       "Portrait            903  3668.156146  250.0   51430.0\n",
       "Religion and myth    81  3120.987654  300.0   34290.0\n",
       "Still life         1089  2145.674931  500.0   30000.0\n",
       "Unknown              18  5688.333333  500.0   21390.0"
      ]
     },
     "execution_count": 33,
     "metadata": {},
     "output_type": "execute_result"
    }
   ],
   "source": [
    "df.groupby(['genre']).agg({'name': ['count'], 'price': ['mean', 'min', 'max']})"
   ]
  },
  {
   "cell_type": "code",
   "execution_count": 34,
   "metadata": {},
   "outputs": [
    {
     "data": {
      "image/png": "[encoded data removed]",
      "text/plain": [
       "<Figure size 864x432 with 1 Axes>"
      ]
     },
     "metadata": {},
     "output_type": "display_data"
    }
   ],
   "source": [
    "gf.boxplot_graph(df, 'price', 'genre')"
   ]
  },
  {
   "cell_type": "markdown",
   "metadata": {},
   "source": [
    "And see the same picture. Now we will remove outliers and try again."
   ]
  },
  {
   "cell_type": "code",
   "execution_count": 35,
   "metadata": {},
   "outputs": [
    {
     "data": {
      "text/html": [
       "<div>\n",
       "<style scoped>\n",
       "    .dataframe tbody tr th:only-of-type {\n",
       "        vertical-align: middle;\n",
       "    }\n",
       "\n",
       "    .dataframe tbody tr th {\n",
       "        vertical-align: top;\n",
       "    }\n",
       "\n",
       "    .dataframe thead tr th {\n",
       "        text-align: left;\n",
       "    }\n",
       "\n",
       "    .dataframe thead tr:last-of-type th {\n",
       "        text-align: right;\n",
       "    }\n",
       "</style>\n",
       "<table border=\"1\" class=\"dataframe\">\n",
       "  <thead>\n",
       "    <tr>\n",
       "      <th></th>\n",
       "      <th>name</th>\n",
       "      <th colspan=\"3\" halign=\"left\">price</th>\n",
       "    </tr>\n",
       "    <tr>\n",
       "      <th></th>\n",
       "      <th>count</th>\n",
       "      <th>mean</th>\n",
       "      <th>min</th>\n",
       "      <th>max</th>\n",
       "    </tr>\n",
       "    <tr>\n",
       "      <th>genre</th>\n",
       "      <th></th>\n",
       "      <th></th>\n",
       "      <th></th>\n",
       "      <th></th>\n",
       "    </tr>\n",
       "  </thead>\n",
       "  <tbody>\n",
       "    <tr>\n",
       "      <th>Abstraction</th>\n",
       "      <td>1363</td>\n",
       "      <td>2451.936904</td>\n",
       "      <td>230.0</td>\n",
       "      <td>12800.0</td>\n",
       "    </tr>\n",
       "    <tr>\n",
       "      <th>Animals</th>\n",
       "      <td>293</td>\n",
       "      <td>1907.389078</td>\n",
       "      <td>230.0</td>\n",
       "      <td>12860.0</td>\n",
       "    </tr>\n",
       "    <tr>\n",
       "      <th>Flowers</th>\n",
       "      <td>920</td>\n",
       "      <td>1540.336957</td>\n",
       "      <td>210.0</td>\n",
       "      <td>10860.0</td>\n",
       "    </tr>\n",
       "    <tr>\n",
       "      <th>Genre painting</th>\n",
       "      <td>1056</td>\n",
       "      <td>2867.021780</td>\n",
       "      <td>210.0</td>\n",
       "      <td>13000.0</td>\n",
       "    </tr>\n",
       "    <tr>\n",
       "      <th>Landscape</th>\n",
       "      <td>4916</td>\n",
       "      <td>2344.457893</td>\n",
       "      <td>80.0</td>\n",
       "      <td>12860.0</td>\n",
       "    </tr>\n",
       "    <tr>\n",
       "      <th>Nude and erotic</th>\n",
       "      <td>171</td>\n",
       "      <td>3188.947368</td>\n",
       "      <td>420.0</td>\n",
       "      <td>12800.0</td>\n",
       "    </tr>\n",
       "    <tr>\n",
       "      <th>Portrait</th>\n",
       "      <td>869</td>\n",
       "      <td>2947.059839</td>\n",
       "      <td>250.0</td>\n",
       "      <td>12860.0</td>\n",
       "    </tr>\n",
       "    <tr>\n",
       "      <th>Religion and myth</th>\n",
       "      <td>79</td>\n",
       "      <td>2592.405063</td>\n",
       "      <td>300.0</td>\n",
       "      <td>10000.0</td>\n",
       "    </tr>\n",
       "    <tr>\n",
       "      <th>Still life</th>\n",
       "      <td>1085</td>\n",
       "      <td>2077.087558</td>\n",
       "      <td>500.0</td>\n",
       "      <td>12260.0</td>\n",
       "    </tr>\n",
       "    <tr>\n",
       "      <th>Unknown</th>\n",
       "      <td>16</td>\n",
       "      <td>3901.875000</td>\n",
       "      <td>500.0</td>\n",
       "      <td>10000.0</td>\n",
       "    </tr>\n",
       "  </tbody>\n",
       "</table>\n",
       "</div>"
      ],
      "text/plain": [
       "                   name        price                \n",
       "                  count         mean    min      max\n",
       "genre                                               \n",
       "Abstraction        1363  2451.936904  230.0  12800.0\n",
       "Animals             293  1907.389078  230.0  12860.0\n",
       "Flowers             920  1540.336957  210.0  10860.0\n",
       "Genre painting     1056  2867.021780  210.0  13000.0\n",
       "Landscape          4916  2344.457893   80.0  12860.0\n",
       "Nude and erotic     171  3188.947368  420.0  12800.0\n",
       "Portrait            869  2947.059839  250.0  12860.0\n",
       "Religion and myth    79  2592.405063  300.0  10000.0\n",
       "Still life         1085  2077.087558  500.0  12260.0\n",
       "Unknown              16  3901.875000  500.0  10000.0"
      ]
     },
     "execution_count": 35,
     "metadata": {},
     "output_type": "execute_result"
    }
   ],
   "source": [
    "test_df.groupby(['genre']).agg({'name': ['count'], 'price': ['mean', 'min', 'max']})"
   ]
  },
  {
   "cell_type": "code",
   "execution_count": 36,
   "metadata": {},
   "outputs": [
    {
     "data": {
      "image/png": "[encoded data removed]",
      "text/plain": [
       "<Figure size 864x432 with 1 Axes>"
      ]
     },
     "metadata": {},
     "output_type": "display_data"
    }
   ],
   "source": [
    "gf.boxplot_graph(test_df, 'price', 'genre')"
   ]
  },
  {
   "cell_type": "markdown",
   "metadata": {},
   "source": [
    "We are not considering the 'Unknown' style because this group very small. We see that much valued 'Nude and erotic', 'Genre painting' or 'Portrait'."
   ]
  },
  {
   "cell_type": "markdown",
   "metadata": {},
   "source": [
    "The column 'material' has many errors, so let's fix that."
   ]
  },
  {
   "cell_type": "code",
   "execution_count": 37,
   "metadata": {},
   "outputs": [
    {
     "data": {
      "text/plain": [
       "array(['Холст', 'Картон', 'Canvas', 'Plastic', 'Polycarbonate',\n",
       "       'Fiberboard', 'Cardboard', 'paper', 'ДВП', 'Panel', 'Нить',\n",
       "       'Canvas/cardboard', 'Бумага', 'Мешковина', 'Оргалит', 'Ватман',\n",
       "       'Плекс', 'Дерево', 'Дерево-панель', 'plywood',\n",
       "       'ЕвгенийЖанр:ПейзажСтиль:ИмпрессионизмРазмер:40', 'Paper',\n",
       "       'canvas', 'Oil', 'Принт', 'Драп', 'Хлопок', 'Лен',\n",
       "       'Новозеландская', 'Алюминий', 'Шерсть', 'Полированная',\n",
       "       'Бан.ткань', 'ДСП', 'Кованная', 'Черный', 'Кованая', 'Выжигание',\n",
       "       'ФотоFiberboard', 'Год:', 'Canvas/Fiberboard', 'Гофроcardboard',\n",
       "       'Пластик', '\\xa0Canvas', 'Папье', 'Гипсоcardboard',\n",
       "       'paper, штукатурка', 'Доска', '\\xa0-', 'Лён', 'Медь',\n",
       "       'Canvas, Cardboard', 'cardboard', 'silk', 'Папье-маше, эпоксидная',\n",
       "       'Линогравюра', 'Керамическая', 'Офортная',\n",
       "       'Дерево, железо, пластик, стекло, стразы', 'Металл', 'Ткань',\n",
       "       'Крашенный', 'paper, ДСП, стекло',\n",
       "       'Дерево, железо, стекло, пластик', 'Дерево, железо',\n",
       "       'Оргстекло, стекло, пластик', 'Железо, стекло, пластик',\n",
       "       'Дерево, пластик', 'Дерево, железо, пластик',\n",
       "       'Дерево, керамика, железо, стекло, пластик', 'Fiberboard-плита',\n",
       "       'Керамика', 'Кртон', 'Шифон', 'Камень', 'Лежников', 'Листы',\n",
       "       'Тонированная', 'Батик', 'Бархат', 'Canvas, стекло',\n",
       "       'Fiberboard, дерево', 'Encaustic', 'Cardboardная', 'watercolorная',\n",
       "       'Canvas, мдф', '<evfuf', 'Бархатная', 'Бетон, металл, acrylicл',\n",
       "       'Бетон, металл, acrylic', 'Системная', 'Другая', 'Другое',\n",
       "       'Эмаль, металл, трансформаторная',\n",
       "       'Другое, Грунт, трансформаторная', 'Грунт, трансформаторная',\n",
       "       'silk, анилиновые', 'натуральный', 'Натуральный', 'pastel',\n",
       "       'МДФ, фотоpaper', 'МДФ, фотоpaper, коврик', 'Панель', 'АБП',\n",
       "       'Тополь', 'Берёза', 'Стекло, термостойкие', 'Крепдешин', 'Атлас',\n",
       "       'Ткань, лимонно-кислое', 'Роллер, paper', 'Роллер, paper-крафт',\n",
       "       'Роллер, paper, Год:', 'Тушь, перо, paper', 'Роллер',\n",
       "       'Тушь, перо, цветная', 'Роллер, цветная', 'Canvas, cardboard',\n",
       "       'Канвас', 'Canvas.', 'Canvas, Fiberboard', 'Fiberboard, canvas',\n",
       "       'Мдф, canvas', 'МДФ, canvas', 'Рама,cardboard', 'plywood, oil',\n",
       "       'plywood, oil, рейки, шурупы', 'plywood, oil, сетка',\n",
       "       'plywood, oil, рейки', 'plywood, oil, рейки, цветные',\n",
       "       'plywood, oil, рейки, рамы', 'Cardboard, oil, шнур', 'Пробковое',\n",
       "       'paper, спец.грунт', 'Виниловые', 'Дсп', 'Ковёр',\n",
       "       'шер.,люр.,х.б., нити', 'Гобелен',\n",
       "       'Ручноеткачество,таписерия, Год:', 'Мрамор', 'Стекло',\n",
       "       'Canvas,cardboard', 'Плексиглас', 'Дерево, Карибу', 'Шитьё', 'Дпв',\n",
       "       'Гипс', 'Холс'], dtype=object)"
      ]
     },
     "execution_count": 37,
     "metadata": {},
     "output_type": "execute_result"
    }
   ],
   "source": [
    "df['material'].unique()"
   ]
  },
  {
   "cell_type": "code",
   "execution_count": 38,
   "metadata": {},
   "outputs": [],
   "source": [
    "df.loc[(df['material'] == 'ЕвгенийЖанр:ПейзажСтиль:ИмпрессионизмРазмер:40'), 'material'] = 'Unknown'\n",
    "df.loc[(df['material'] == 'Холс'), 'material'] = 'Холст'\n",
    "df.loc[(df['material'] == '\\xa0Canvas'), 'material'] = 'Canvas'\n",
    "df.loc[(df['material'] == 'canvas'), 'material'] = 'Canvas'\n",
    "df.loc[(df['material'] == 'Canvas.'), 'material'] = 'Canvas'\n",
    "df.loc[(df['material'] == 'Канвас'), 'material'] = 'Canvas'\n",
    "df.loc[(df['material'] == '\\xa0-'), 'material'] = 'Unknown'\n",
    "df.loc[(df['material'] == 'Год:'), 'material'] = 'Unknown'\n",
    "df.loc[(df['material'] == 'cardboard'), 'material'] = 'Cardboard'\n",
    "df.loc[(df['material'] == 'Кртон'), 'material'] = 'Картон'\n",
    "df.loc[(df['material'] == '<evfuf'), 'material'] = 'Unknown'\n",
    "df.loc[(df['material'] == 'Бетон, металл, acrylicл'), 'material'] = 'Бетон, металл, acrylic'\n",
    "df.loc[(df['material'] == 'натуральный'), 'material'] = 'Натуральный'\n",
    "df.loc[(df['material'] == 'Роллер, paper, Год:'), 'material'] = 'Роллер, paper'\n",
    "df.loc[(df['material'] == 'Мдф, canvas'), 'material'] = 'МДФ, canvas'\n",
    "df.loc[(df['material'] == 'Дсп'), 'material'] = 'ДСП'\n",
    "df.loc[(df['material'] == 'Ручноеткачество,таписерия, Год:'), 'material'] = 'Ручноеткачество,таписерия'\n",
    "df.loc[(df['material'] == 'Canvas, cardboard'), 'material'] = 'Canvas, Cardboard'\n",
    "df.loc[(df['material'] == 'Canvas,cardboard'), 'material'] = 'Canvas, Cardboard'\n",
    "df.loc[(df['material'] == 'Дпв'), 'material'] = 'ДВП'\n",
    "df.loc[(df['material'] == 'Лен'), 'material'] = 'Лён'\n",
    "df.loc[(df['material'] == 'Кованная'), 'material'] = 'Кованая'\n",
    "df.loc[(df['material'] == 'Другая'), 'material'] = 'Unknown'\n",
    "df.loc[(df['material'] == 'Другое'), 'material'] = 'Unknown'\n",
    "df.loc[(df['material'] == 'Fiberboard, canvas'), 'material'] = 'Canvas, Fiberboard'\n",
    "df.loc[(df['material'] == 'paper'), 'material'] = 'Paper'"
   ]
  },
  {
   "cell_type": "code",
   "execution_count": 39,
   "metadata": {},
   "outputs": [
    {
     "data": {
      "text/plain": [
       "125"
      ]
     },
     "execution_count": 39,
     "metadata": {},
     "output_type": "execute_result"
    }
   ],
   "source": [
    "df['material'].nunique()"
   ]
  },
  {
   "cell_type": "markdown",
   "metadata": {},
   "source": [
    "We have 125 unique categories for now. Actually some of them it's the same category but on the different languages, stay it for a while. We just want to see the most popular categories."
   ]
  },
  {
   "cell_type": "code",
   "execution_count": 40,
   "metadata": {},
   "outputs": [
    {
     "data": {
      "text/html": [
       "<div>\n",
       "<style scoped>\n",
       "    .dataframe tbody tr th:only-of-type {\n",
       "        vertical-align: middle;\n",
       "    }\n",
       "\n",
       "    .dataframe tbody tr th {\n",
       "        vertical-align: top;\n",
       "    }\n",
       "\n",
       "    .dataframe thead th {\n",
       "        text-align: right;\n",
       "    }\n",
       "</style>\n",
       "<table border=\"1\" class=\"dataframe\">\n",
       "  <thead>\n",
       "    <tr style=\"text-align: right;\">\n",
       "      <th></th>\n",
       "      <th>material</th>\n",
       "      <th>name</th>\n",
       "    </tr>\n",
       "  </thead>\n",
       "  <tbody>\n",
       "    <tr>\n",
       "      <th>0</th>\n",
       "      <td>Canvas</td>\n",
       "      <td>6381</td>\n",
       "    </tr>\n",
       "    <tr>\n",
       "      <th>16</th>\n",
       "      <td>Paper</td>\n",
       "      <td>1731</td>\n",
       "    </tr>\n",
       "    <tr>\n",
       "      <th>7</th>\n",
       "      <td>Cardboard</td>\n",
       "      <td>1287</td>\n",
       "    </tr>\n",
       "    <tr>\n",
       "      <th>11</th>\n",
       "      <td>Fiberboard</td>\n",
       "      <td>604</td>\n",
       "    </tr>\n",
       "    <tr>\n",
       "      <th>6</th>\n",
       "      <td>Canvas/cardboard</td>\n",
       "      <td>174</td>\n",
       "    </tr>\n",
       "    <tr>\n",
       "      <th>118</th>\n",
       "      <td>Холст</td>\n",
       "      <td>98</td>\n",
       "    </tr>\n",
       "    <tr>\n",
       "      <th>54</th>\n",
       "      <td>Дерево</td>\n",
       "      <td>64</td>\n",
       "    </tr>\n",
       "    <tr>\n",
       "      <th>24</th>\n",
       "      <td>plywood</td>\n",
       "      <td>63</td>\n",
       "    </tr>\n",
       "    <tr>\n",
       "      <th>111</th>\n",
       "      <td>Ткань, лимонно-кислое</td>\n",
       "      <td>44</td>\n",
       "    </tr>\n",
       "    <tr>\n",
       "      <th>87</th>\n",
       "      <td>Нить</td>\n",
       "      <td>41</td>\n",
       "    </tr>\n",
       "  </tbody>\n",
       "</table>\n",
       "</div>"
      ],
      "text/plain": [
       "                  material  name\n",
       "0                   Canvas  6381\n",
       "16                   Paper  1731\n",
       "7                Cardboard  1287\n",
       "11              Fiberboard   604\n",
       "6         Canvas/cardboard   174\n",
       "118                  Холст    98\n",
       "54                  Дерево    64\n",
       "24                 plywood    63\n",
       "111  Ткань, лимонно-кислое    44\n",
       "87                    Нить    41"
      ]
     },
     "execution_count": 40,
     "metadata": {},
     "output_type": "execute_result"
    }
   ],
   "source": [
    "temp_df = df.groupby(['material']).agg({'name': 'count'}).reset_index()\n",
    "temp_df.sort_values(('name'),ascending=False).iloc[:10]"
   ]
  },
  {
   "cell_type": "markdown",
   "metadata": {},
   "source": [
    "We see that just 5 from 125 categories have more than 100 pictures.\n",
    "\n",
    "Now go to the 'technic' column."
   ]
  },
  {
   "cell_type": "code",
   "execution_count": 41,
   "metadata": {},
   "outputs": [
    {
     "data": {
      "text/plain": [
       "array(['Масло', 'Print', 'Acrylic', 'Collage', 'Oil', 'watercolor',\n",
       "       'pastel', 'acrylic', 'Гобелен', 'Сухая', 'gouache', 'Пастель',\n",
       "       'Акварель', 'Смешанная', 'Акрил', 'charcoal', 'mixed', 'Темпера',\n",
       "       'Сепия', 'silkография', 'Mixed',\n",
       "       'ЕвгенийЖанр:ПейзажСтиль:ИмпрессионизмРазмер:40', 'Watercolor',\n",
       "       'Ручная', 'oil', 'Офорт', 'Печать', 'Монотипия', 'Графит',\n",
       "       'Digital', 'Интарсия', 'Смеш.техника', 'Пиганов', 'Цветная',\n",
       "       'Тушь', 'Линогравюра', 'Эмаль', 'Лён', 'Эмали', 'Графика',\n",
       "       'См.тех.', 'Смеш.', 'Восковая', 'Ковка', 'Фетр', 'Авторская',\n",
       "       '\\xa0acrylic', 'Материал:', 'acrylic/эмаль', 'Чернила', 'penсilи',\n",
       "       'Коллаж', 'Oil, acrylic', 'Canvas', 'acrylic, смеш.', '\\xa0Oil',\n",
       "       'Oil, charcoal', 'Маркеры', 'pastel, штукатурка', 'Темпера, воск',\n",
       "       'acrylic, гель', 'pastel, гель', 'Резьба', 'penсil',\n",
       "       'acrylic, темпера', 'Oil, поталь', 'acrylic, гипс', 'acrylic, oil',\n",
       "       'acrylic, лепнина', 'Батик', 'Гель', 'Oil, сусальное',\n",
       "       'Инсталляция', 'watercolor, тушь', 'Сангина',\n",
       "       'watercolor, gouache', 'gouache, тушь', 'acrylic, эмаль',\n",
       "       'acrylicовая', 'Эстамп', 'watercolor/gouache',\n",
       "       'watercolor/acrylic', 'Горячая', 'acrylic,\\xa0Oil',\n",
       "       'Oil, acrylic, поталь', 'Oil, люминисцентный', 'Принт',\n",
       "       'acrylic, mixed', 'Ксерография', 'Скульптура',\n",
       "       'watercolor, коллаж', 'Тушь, монотипия', 'Oil, коллаж', 'Цветные',\n",
       "       'Морозкина', 'Дотворк, acrylic, маркер', 'Oil, лак', 'Цветной',\n",
       "       'Гелевые', 'Ассамбляж', 'pastel, тушь', 'Тушь, pastel', 'Горная',\n",
       "       'Темпера, acrylic, кофе', 'сосна, ковка, фактура, колер',\n",
       "       'Ковка, сварка, колер, Материал:', 'Вышивка', 'Oil, авторская',\n",
       "       'acrylic, лак', 'gouache, acrylic', 'Темпера, acrylic',\n",
       "       'Oil, pastel', 'Fiberboard', 'acrylic, пневматические',\n",
       "       'acrylic, эпоксидная', 'acrylic, oil, аэрозольная', 'Аппликация',\n",
       "       'acrylic, gouache', 'Компьютерная', 'Oil, металл, paper',\n",
       "       'Гипс, темпера', 'Oil, эмаль, металл', 'Oil, эмаль',\n",
       "       'Oil, эмаль, paper', 'Oil, эмаль, стекло', 'acrylic, oil, тушь',\n",
       "       'acrylic, тушь', 'watercolor,тушь', 'acrylic, pastel, тушь',\n",
       "       'acrylic, pastel', 'acrylic, тушь, watercolor', 'acrylic, чернила',\n",
       "       'Oil, чернила', 'Эмаль, gouache', 'Полиграфия', 'Сепия, charcoal',\n",
       "       'pastel, gouache', 'Литография', 'penсil, gouache', 'Oil, темпера',\n",
       "       'Тушь, гелевая', 'acrylic, penсil, эпоксидная', 'Гвозди, нить',\n",
       "       'Скотч', 'Цв.', 'Тушь, фломастеры', 'Темпера, фломастеры',\n",
       "       'Клеевая', 'Белила, темпера', 'Тушь, темпера',\n",
       "       'Белила, watercolor', 'Белила', 'Цв.чернила, маркер, гел.',\n",
       "       'Масляная', 'Темпера, penсilи', 'Тушь, watercolor',\n",
       "       'Тушь, клеевая', 'Восковые', 'Фломастеры',\n",
       "       'Тушь, фломастеры, клеевая', 'Фломастеры, тушь',\n",
       "       'watercolor, фломастеры', 'Белила, клеевая',\n",
       "       'Фломастеры, тушь, клеевая', 'Фломастеры, тушь, penсil',\n",
       "       'Фломастеры, клеевая', 'Белила, тушь, watercolor',\n",
       "       'Фломастеры, watercolor, penсil', 'Фломастеры, тушь, watercolor',\n",
       "       'Фломастер', 'Тушь, белила, watercolor', 'pastel, темпера',\n",
       "       'Текстурные-грунты,стеклянные-кабошоны,oil', 'Художник:',\n",
       "       'Левкас, стеклянные-кабошоны, темпера', 'Тушь, перо',\n",
       "       'acrylic, печать', 'Фотопечать', 'Горячий', 'Bees',\n",
       "       'acrylic, ручка', 'watercolor, pastel', 'Перо',\n",
       "       'watercolor, acrylic', 'Серебро, acrylic', 'Темпера, penсil',\n",
       "       'Левкас, oil, стекло', 'Граффити', 'watercolor, ручки',\n",
       "       'Шариковые', 'watercolor, watercolorные', 'Oil, мастехин',\n",
       "       'Темпера, лак', 'acrylic, pastel, watercolor',\n",
       "       'acrylic, pastel, Материал:', 'pastel, watercolor',\n",
       "       'acrylic, watercolor, Материал:', 'acrylic, oil, pastel',\n",
       "       'acrylic, watercolor, pastel', 'acrylic, watercolor',\n",
       "       'acrylic, watercolor, oil, тушь', 'paper', 'Калька, лак',\n",
       "       'калька, лак', 'Oil, мастихин', 'Гелевая', 'Многослойная',\n",
       "       'смеш.техника', 'acrylic, коллаж', 'Живопись', 'Гелиография',\n",
       "       'Станковая', 'acrylic, penсil', 'penсil, acrylic', 'авторская',\n",
       "       'Нить', 'смеш.', 'Китайские', 'acrylic, тушь, penсil',\n",
       "       'pastel, смеш.', 'Краски', 'acrylic, сухая', 'watercolorные',\n",
       "       'acrylic/фактура', 'acrylic, тушь, цветной',\n",
       "       'Принт, acrylic, mixed', 'Цифровая', 'соус, сепия, charcoal',\n",
       "       'Таписерия', 'penсil, сепия', 'watercolor,смеш.техника',\n",
       "       'Натуральный', 'Термостойкие', 'Oil,acrylic, смеш.техника',\n",
       "       'Сепия,penсil', 'acrylic.', 'Oil,глина', 'Темпера,смеш.техника',\n",
       "       'acrylic, битум, печать', 'Смеш.техника, коллаж', 'Oil,acrylic',\n",
       "       'gouache,acrylic,смеш.т-ка', 'Oil,acrylic,смеш.т-ка',\n",
       "       'acrylic, oil, mixed'], dtype=object)"
      ]
     },
     "execution_count": 41,
     "metadata": {},
     "output_type": "execute_result"
    }
   ],
   "source": [
    "df['technic'].unique()"
   ]
  },
  {
   "cell_type": "code",
   "execution_count": 42,
   "metadata": {},
   "outputs": [],
   "source": [
    "df.loc[(df['technic'] == 'ЕвгенийЖанр:ПейзажСтиль:ИмпрессионизмРазмер:40'), 'technic'] = 'Unknown'\n",
    "df.loc[(df['technic'] == 'Материал:'), 'technic'] = 'Unknown'\n",
    "df.loc[(df['technic'] == 'Морозкина'), 'technic'] = 'Unknown'\n",
    "df.loc[(df['technic'] == 'Художник:'), 'technic'] = 'Unknown'\n",
    "df.loc[(df['technic'] == 'acrylic'), 'technic'] = 'Acrylic'\n",
    "df.loc[(df['technic'] == '\\xa0acrylic'), 'technic'] = 'Acrylic'\n",
    "df.loc[(df['technic'] == 'acrylicовая'), 'technic'] = 'Acrylic'\n",
    "df.loc[(df['technic'] == 'watercolor'), 'technic'] = 'Watercolor'\n",
    "df.loc[(df['technic'] == 'oil'), 'technic'] = 'Oil'\n",
    "df.loc[(df['technic'] == '\\xa0Oil'), 'technic'] = 'Oil'\n",
    "df.loc[(df['technic'] == 'Эмали'), 'technic'] = 'Эмаль'\n",
    "df.loc[(df['technic'] == 'См.тех.'), 'technic'] = 'Смешанная'\n",
    "df.loc[(df['technic'] == 'Смеш.техника'), 'technic'] = 'Смешанная'\n",
    "df.loc[(df['technic'] == 'Смеш.'), 'technic'] = 'Смешанная'\n",
    "df.loc[(df['technic'] == 'смеш.техника'), 'technic'] = 'Смешанная'\n",
    "df.loc[(df['technic'] == 'смеш.'), 'technic'] = 'Смешанная'\n",
    "df.loc[(df['technic'] == 'penсilи'), 'technic'] = 'penсil'\n",
    "df.loc[(df['technic'] == 'acrylic, oil'), 'technic'] = 'Oil, acrylic'\n",
    "df.loc[(df['technic'] == 'acrylic,\\xa0Oil'), 'technic'] = 'Oil, acrylic'\n",
    "df.loc[(df['technic'] == 'acrylic/эмаль'), 'technic'] = 'acrylic, эмаль'\n",
    "df.loc[(df['technic'] == 'gouache, acrylic'), 'technic'] = 'acrylic, gouache'\n",
    "df.loc[(df['technic'] == 'acrylic, смеш.'), 'technic'] = 'acrylic, mixed'\n",
    "df.loc[(df['technic'] == 'watercolor/gouache'), 'technic'] = 'watercolor, gouache'\n",
    "df.loc[(df['technic'] == 'Тушь, watercolor'), 'technic'] = 'watercolor, тушь'\n",
    "df.loc[(df['technic'] == 'watercolor,тушь'), 'technic'] = 'watercolor, тушь'\n",
    "df.loc[(df['technic'] == 'Цветные'), 'technic'] = 'Цветной'\n",
    "df.loc[(df['technic'] == 'Цв.'), 'technic'] = 'Цветной'\n",
    "df.loc[(df['technic'] == 'Цветная'), 'technic'] = 'Цветной'\n",
    "df.loc[(df['technic'] == 'pastel, тушь'), 'technic'] = 'Тушь, pastel'\n",
    "df.loc[(df['technic'] == 'Ковка, сварка, колер, Материал:'), 'technic'] = 'Ковка, сварка, колер'\n",
    "df.loc[(df['technic'] == 'acrylic, темпера'), 'technic'] = 'Темпера, acrylic'\n",
    "df.loc[(df['technic'] == 'watercolor/acrylic'), 'technic'] = 'watercolor, acrylic'\n",
    "df.loc[(df['technic'] == 'acrylic, watercolor, Материал:'), 'technic'] = 'acrylic, watercolor'\n",
    "df.loc[(df['technic'] == 'acrylic, pastel, Материал:'), 'technic'] = 'acrylic, pastel'\n",
    "df.loc[(df['technic'] == 'acrylic, watercolor, pastel'), 'technic'] = 'acrylic, pastel, watercolor'\n",
    "df.loc[(df['technic'] == 'penсil, acrylic'), 'technic'] = 'acrylic, penсil'\n",
    "df.loc[(df['technic'] == 'acrylic.'), 'technic'] = 'Acrylic'\n",
    "df.loc[(df['technic'] == 'watercolor, acrylic'), 'technic'] = 'acrylic, watercolor'\n",
    "df.loc[(df['technic'] == 'Пиганов'), 'technic'] = 'Unknown'\n",
    "df.loc[(df['technic'] == 'Тушь, белила, watercolor'), 'technic'] = 'Белила, тушь, watercolor'\n",
    "df.loc[(df['technic'] == 'watercolorные'), 'technic'] = 'Watercolor'\n",
    "df.loc[(df['technic'] == 'watercolor, watercolorные'), 'technic'] = 'Watercolor'\n",
    "df.loc[(df['technic'] == 'watercolor, pastel'), 'technic'] = 'pastel, watercolor'\n",
    "df.loc[(df['technic'] == 'Oil,acrylic,смеш.т-ка'), 'technic'] = 'acrylic, oil, mixed'\n",
    "df.loc[(df['technic'] == 'Oil,acrylic, смеш.техника'), 'technic'] = 'acrylic, oil, mixed'\n",
    "df.loc[(df['technic'] == 'Oil,acrylic'), 'technic'] = 'Oil, acrylic'\n",
    "df.loc[(df['technic'] == 'penсil, сепия'), 'technic'] = 'Сепия,penсil'\n",
    "df.loc[(df['technic'] == 'Темпера, penсilи'), 'technic'] = 'Темпера, penсil'\n",
    "df.loc[(df['technic'] == 'mixed'), 'technic'] = 'Mixed'\n",
    "df.loc[(df['technic'] == 'Фломастеры, тушь'), 'technic'] = 'Тушь, фломастеры'\n",
    "df.loc[(df['technic'] == 'Фломастеры, тушь, клеевая'), 'technic'] = 'Тушь, фломастеры, клеевая'\n",
    "df.loc[(df['technic'] == 'Восковые'), 'technic'] = 'Воск'\n",
    "df.loc[(df['technic'] == 'Восковая'), 'technic'] = 'Воск'\n",
    "df.loc[(df['technic'] == 'авторская'), 'technic'] = 'Авторская'\n",
    "df.loc[(df['technic'] == 'калька, лак'), 'technic'] = 'Калька, лак'\n",
    "df.loc[(df['technic'] == 'Гелевые'), 'technic'] = 'Гель'\n",
    "df.loc[(df['technic'] == 'Гелевая'), 'technic'] = 'Гель'\n",
    "df.loc[(df['technic'] == 'Фломастер'), 'technic'] = 'Фломастеры'"
   ]
  },
  {
   "cell_type": "code",
   "execution_count": 43,
   "metadata": {},
   "outputs": [
    {
     "data": {
      "text/plain": [
       "189"
      ]
     },
     "execution_count": 43,
     "metadata": {},
     "output_type": "execute_result"
    }
   ],
   "source": [
    "df['technic'].nunique()"
   ]
  },
  {
   "cell_type": "code",
   "execution_count": 44,
   "metadata": {},
   "outputs": [
    {
     "data": {
      "text/html": [
       "<div>\n",
       "<style scoped>\n",
       "    .dataframe tbody tr th:only-of-type {\n",
       "        vertical-align: middle;\n",
       "    }\n",
       "\n",
       "    .dataframe tbody tr th {\n",
       "        vertical-align: top;\n",
       "    }\n",
       "\n",
       "    .dataframe thead th {\n",
       "        text-align: right;\n",
       "    }\n",
       "</style>\n",
       "<table border=\"1\" class=\"dataframe\">\n",
       "  <thead>\n",
       "    <tr style=\"text-align: right;\">\n",
       "      <th></th>\n",
       "      <th>technic</th>\n",
       "      <th>name</th>\n",
       "    </tr>\n",
       "  </thead>\n",
       "  <tbody>\n",
       "    <tr>\n",
       "      <th>7</th>\n",
       "      <td>Oil</td>\n",
       "      <td>7400</td>\n",
       "    </tr>\n",
       "    <tr>\n",
       "      <th>0</th>\n",
       "      <td>Acrylic</td>\n",
       "      <td>669</td>\n",
       "    </tr>\n",
       "    <tr>\n",
       "      <th>30</th>\n",
       "      <td>Watercolor</td>\n",
       "      <td>581</td>\n",
       "    </tr>\n",
       "    <tr>\n",
       "      <th>67</th>\n",
       "      <td>pastel</td>\n",
       "      <td>279</td>\n",
       "    </tr>\n",
       "    <tr>\n",
       "      <th>149</th>\n",
       "      <td>Смешанная</td>\n",
       "      <td>226</td>\n",
       "    </tr>\n",
       "    <tr>\n",
       "      <th>6</th>\n",
       "      <td>Mixed</td>\n",
       "      <td>173</td>\n",
       "    </tr>\n",
       "    <tr>\n",
       "      <th>8</th>\n",
       "      <td>Oil, acrylic</td>\n",
       "      <td>115</td>\n",
       "    </tr>\n",
       "    <tr>\n",
       "      <th>83</th>\n",
       "      <td>Авторская</td>\n",
       "      <td>97</td>\n",
       "    </tr>\n",
       "    <tr>\n",
       "      <th>154</th>\n",
       "      <td>Темпера</td>\n",
       "      <td>89</td>\n",
       "    </tr>\n",
       "    <tr>\n",
       "      <th>126</th>\n",
       "      <td>Масло</td>\n",
       "      <td>88</td>\n",
       "    </tr>\n",
       "  </tbody>\n",
       "</table>\n",
       "</div>"
      ],
      "text/plain": [
       "          technic  name\n",
       "7             Oil  7400\n",
       "0         Acrylic   669\n",
       "30     Watercolor   581\n",
       "67         pastel   279\n",
       "149     Смешанная   226\n",
       "6           Mixed   173\n",
       "8    Oil, acrylic   115\n",
       "83      Авторская    97\n",
       "154       Темпера    89\n",
       "126         Масло    88"
      ]
     },
     "execution_count": 44,
     "metadata": {},
     "output_type": "execute_result"
    }
   ],
   "source": [
    "temp_df = df.groupby(['technic']).agg({'name': 'count'}).reset_index()\n",
    "temp_df.sort_values(('name'),ascending=False).iloc[:10]"
   ]
  },
  {
   "cell_type": "markdown",
   "metadata": {},
   "source": [
    "That is all. We cleared data, counted some statistics and found dependence between the size of the picture and price."
   ]
  }
 ],
 "metadata": {
  "kernelspec": {
   "display_name": "Python 3",
   "language": "python",
   "name": "python3"
  },
  "language_info": {
   "codemirror_mode": {
    "name": "ipython",
    "version": 3
   },
   "file_extension": ".py",
   "mimetype": "text/x-python",
   "name": "python",
   "nbconvert_exporter": "python",
   "pygments_lexer": "ipython3",
   "version": "3.6.7"
  }
 },
 "nbformat": 4,
 "nbformat_minor": 2
}
