{
 "cells": [
  {
   "cell_type": "code",
   "execution_count": 2,
   "metadata": {},
   "outputs": [],
   "source": [
    "from bs4 import BeautifulSoup, Comment\n",
    "import requests as req\n",
    "from selenium import webdriver\n",
    "import time\n",
    "\n",
    "import re\n",
    "import csv\n",
    "import pandas as pd"
   ]
  },
  {
   "cell_type": "code",
   "execution_count": 3,
   "metadata": {},
   "outputs": [],
   "source": [
    "link = 'https://en.art-most.com/all_pictures/page/'\n",
    "\n",
    "FILENAME = 'C:/Users/Andrew/Desktop/ML/parsing/gallery.csv'"
   ]
  },
  {
   "cell_type": "code",
   "execution_count": 5,
   "metadata": {},
   "outputs": [],
   "source": [
    "def get_data(links):\n",
    "    '''\n",
    "    Get all necessary data from a page and write to file\n",
    "    Arguments:\n",
    "      links - link to a specific page\n",
    "\n",
    "    Returns:\n",
    "      Write to the file information from a page\n",
    "    '''\n",
    "    soup_child = BeautifulSoup(resp_child.text.encode(encoding='utf-8', errors='ignore').decode('utf-8', 'ignore'), 'lxml')\n",
    "    info = soup_child.find('div', class_ = 'wrapper').find('div', class_ = 'row').find('div', class_ = 'row')\n",
    "    \n",
    "#   here we get actual necessary info\n",
    "    author = info.find('div', class_ = 'row artist').text.strip()\n",
    "    name = info.find('h1', class_ = 'product_title entry-title').text\n",
    "#   cut symbol € and prepare to int\n",
    "    price = info.find('p', class_ = 'price').text[:-2].replace(',', '')\n",
    "\n",
    "    part = info.find(id = 'art_div_original_2').find_all('p')\n",
    "    material = part[0].text[10:].replace('\"', '')\n",
    "    technic = part[1].text[10:].replace('\"', '')\n",
    "    if (part[2].text[6:].replace('\"', '').replace(' ', '') == 'Unknown'):\n",
    "        vertical_size = 'Unknown'\n",
    "        horizontal_size = 'Unknown'\n",
    "    else:\n",
    "        vertical_size = part[2].text[6:].split(' ')[0].replace(',', '.').replace('\"', '')\n",
    "        horizontal_size = part[2].text[6:].split(' ')[2].replace(',', '.').replace('\"', '')\n",
    "    year = part[3].text[6:]\n",
    "    genre = part[4].text[7:]\n",
    "    style = part[5].text[7:]\n",
    "    \n",
    "#   create a dictionary and write to a file\n",
    "\n",
    "    dict = {'author': author, 'name': name, 'material': material, 'technic': technic, 'genre': genre, 'style': style, \n",
    "        'v_size': vertical_size, 'h_size': horizontal_size, 'year': year, 'price': price}\n",
    "\n",
    "    with open(FILENAME, 'a', newline='', encoding='utf-8') as file:\n",
    "        columns = ['author', 'name', 'material', 'technic', 'genre', 'style', 'v_size', 'h_size', 'year', 'price']\n",
    "        writer = csv.DictWriter(file, fieldnames=columns)\n",
    "#        writer.writeheader()\n",
    "        writer.writerow(dict)\n",
    "        file.close()\n",
    "        \n",
    "    time.sleep(2)"
   ]
  },
  {
   "cell_type": "code",
   "execution_count": 19,
   "metadata": {},
   "outputs": [],
   "source": [
    "#get information from the first page\n",
    "\n",
    "resp = req.get('https://en.art-most.com/all_pictures/')\n",
    "soup = BeautifulSoup(resp.text, 'lxml')\n",
    "page = soup.find('ul', class_= 'products columns-3')\n",
    "for heading in page.find_all('a', class_='woocommerce-LoopProduct-link woocommerce-loop-product__link'):\n",
    "    resp_child = req.get(heading['href'])\n",
    "    get_data(resp_child)"
   ]
  },
  {
   "cell_type": "code",
   "execution_count": 6,
   "metadata": {},
   "outputs": [],
   "source": [
    "#get information from all next pages\n",
    "\n",
    "for i in range(2, 381):\n",
    "    link_to_page = link + str(i) + '/'\n",
    "    resp = req.get(link_to_page)\n",
    "    soup = BeautifulSoup(resp.text, 'lxml')\n",
    "    page = soup.find('ul', class_= 'products columns-3')\n",
    "    for heading in page.find_all('a', class_='woocommerce-LoopProduct-link woocommerce-loop-product__link'):\n",
    "        resp_child = req.get(heading['href'])\n",
    "        get_data(resp_child)"
   ]
  },
  {
   "cell_type": "code",
   "execution_count": null,
   "metadata": {},
   "outputs": [],
   "source": []
  },
  {
   "cell_type": "code",
   "execution_count": null,
   "metadata": {},
   "outputs": [],
   "source": []
  },
  {
   "cell_type": "code",
   "execution_count": null,
   "metadata": {},
   "outputs": [],
   "source": []
  }
 ],
 "metadata": {
  "kernelspec": {
   "display_name": "Python 3",
   "language": "python",
   "name": "python3"
  },
  "language_info": {
   "codemirror_mode": {
    "name": "ipython",
    "version": 3
   },
   "file_extension": ".py",
   "mimetype": "text/x-python",
   "name": "python",
   "nbconvert_exporter": "python",
   "pygments_lexer": "ipython3",
   "version": "3.6.7"
  }
 },
 "nbformat": 4,
 "nbformat_minor": 2
}
